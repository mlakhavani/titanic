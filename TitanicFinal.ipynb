{
 "cells": [
  {
   "cell_type": "markdown",
   "metadata": {},
   "source": [
    "<h1 align=center face=\"verdana\" style=\"color:#6699FF\";font-family:verdana>Utilization of Machine Learning to Predict Titanic Passenger Fate</h1>\n",
    "<h3 align=center>Meera Lakhavani</h3>\n",
    "<h4 align=center>9/25/2015</h4>\n",
    "\n",
    "This Python code follows the data science workflow and implements **logistic regression**, **random forests**,  **support vector machines**, and **naive bayes** from the **scikit-learn**, **statsmodels**, **numpy**, and **pandas** packages to predict survival of passengers onboard the Titanic."
   ]
  },
  {
   "cell_type": "markdown",
   "metadata": {},
   "source": [
    "<h2 style=\"color:#6699FF\">1) Read Data</h2>\n",
    "\n",
    "We are given a full set of data (<font face=\"courier\">titanic_full.csv</font>) with information about Titanic passengers and their survival outcome. I utilized pandas to read the .csv file because it allows me to import the file easily and clean it effectively."
   ]
  },
  {
   "cell_type": "code",
   "execution_count": 1,
   "metadata": {
    "collapsed": false
   },
   "outputs": [],
   "source": [
    "import pandas as pd\n",
    "titanic_full = pd.read_csv(\"titanic_full.csv\")"
   ]
  },
  {
   "cell_type": "markdown",
   "metadata": {
    "collapsed": false
   },
   "source": [
    "I chose to print the first few rows of <font face=\"courier\">titanic_full</font> to insure that it was read properly. This also allows me to glance at possible gaps in the data."
   ]
  },
  {
   "cell_type": "code",
   "execution_count": 2,
   "metadata": {
    "collapsed": false
   },
   "outputs": [
    {
     "data": {
      "text/html": [
       "<div>\n",
       "<table border=\"1\" class=\"dataframe\">\n",
       "  <thead>\n",
       "    <tr style=\"text-align: right;\">\n",
       "      <th></th>\n",
       "      <th>survived</th>\n",
       "      <th>name</th>\n",
       "      <th>sex</th>\n",
       "      <th>age</th>\n",
       "      <th>sibsp</th>\n",
       "      <th>parch</th>\n",
       "      <th>pclass</th>\n",
       "      <th>ticket</th>\n",
       "      <th>fare</th>\n",
       "      <th>cabin</th>\n",
       "      <th>embarked</th>\n",
       "      <th>boat</th>\n",
       "      <th>body</th>\n",
       "      <th>home.dest</th>\n",
       "    </tr>\n",
       "  </thead>\n",
       "  <tbody>\n",
       "    <tr>\n",
       "      <th>0</th>\n",
       "      <td>1</td>\n",
       "      <td>Allen, Miss. Elisabeth Walton</td>\n",
       "      <td>female</td>\n",
       "      <td>29.0000</td>\n",
       "      <td>0</td>\n",
       "      <td>0</td>\n",
       "      <td>1</td>\n",
       "      <td>24160</td>\n",
       "      <td>211.3375</td>\n",
       "      <td>B5</td>\n",
       "      <td>S</td>\n",
       "      <td>2</td>\n",
       "      <td>NaN</td>\n",
       "      <td>St Louis, MO</td>\n",
       "    </tr>\n",
       "    <tr>\n",
       "      <th>1</th>\n",
       "      <td>1</td>\n",
       "      <td>Allison, Master. Hudson Trevor</td>\n",
       "      <td>male</td>\n",
       "      <td>0.9167</td>\n",
       "      <td>1</td>\n",
       "      <td>2</td>\n",
       "      <td>1</td>\n",
       "      <td>113781</td>\n",
       "      <td>151.5500</td>\n",
       "      <td>C22 C26</td>\n",
       "      <td>S</td>\n",
       "      <td>11</td>\n",
       "      <td>NaN</td>\n",
       "      <td>Montreal, PQ / Chesterville, ON</td>\n",
       "    </tr>\n",
       "    <tr>\n",
       "      <th>2</th>\n",
       "      <td>0</td>\n",
       "      <td>Allison, Miss. Helen Loraine</td>\n",
       "      <td>female</td>\n",
       "      <td>2.0000</td>\n",
       "      <td>1</td>\n",
       "      <td>2</td>\n",
       "      <td>1</td>\n",
       "      <td>113781</td>\n",
       "      <td>151.5500</td>\n",
       "      <td>C22 C26</td>\n",
       "      <td>S</td>\n",
       "      <td>NaN</td>\n",
       "      <td>NaN</td>\n",
       "      <td>Montreal, PQ / Chesterville, ON</td>\n",
       "    </tr>\n",
       "    <tr>\n",
       "      <th>3</th>\n",
       "      <td>0</td>\n",
       "      <td>Allison, Mr. Hudson Joshua Creighton</td>\n",
       "      <td>male</td>\n",
       "      <td>30.0000</td>\n",
       "      <td>1</td>\n",
       "      <td>2</td>\n",
       "      <td>1</td>\n",
       "      <td>113781</td>\n",
       "      <td>151.5500</td>\n",
       "      <td>C22 C26</td>\n",
       "      <td>S</td>\n",
       "      <td>NaN</td>\n",
       "      <td>135</td>\n",
       "      <td>Montreal, PQ / Chesterville, ON</td>\n",
       "    </tr>\n",
       "    <tr>\n",
       "      <th>4</th>\n",
       "      <td>0</td>\n",
       "      <td>Allison, Mrs. Hudson J C (Bessie Waldo Daniels)</td>\n",
       "      <td>female</td>\n",
       "      <td>25.0000</td>\n",
       "      <td>1</td>\n",
       "      <td>2</td>\n",
       "      <td>1</td>\n",
       "      <td>113781</td>\n",
       "      <td>151.5500</td>\n",
       "      <td>C22 C26</td>\n",
       "      <td>S</td>\n",
       "      <td>NaN</td>\n",
       "      <td>NaN</td>\n",
       "      <td>Montreal, PQ / Chesterville, ON</td>\n",
       "    </tr>\n",
       "  </tbody>\n",
       "</table>\n",
       "</div>"
      ],
      "text/plain": [
       "   survived                                             name     sex      age  \\\n",
       "0         1                    Allen, Miss. Elisabeth Walton  female  29.0000   \n",
       "1         1                   Allison, Master. Hudson Trevor    male   0.9167   \n",
       "2         0                     Allison, Miss. Helen Loraine  female   2.0000   \n",
       "3         0             Allison, Mr. Hudson Joshua Creighton    male  30.0000   \n",
       "4         0  Allison, Mrs. Hudson J C (Bessie Waldo Daniels)  female  25.0000   \n",
       "\n",
       "   sibsp  parch  pclass  ticket      fare    cabin embarked boat  body  \\\n",
       "0      0      0       1   24160  211.3375       B5        S    2   NaN   \n",
       "1      1      2       1  113781  151.5500  C22 C26        S   11   NaN   \n",
       "2      1      2       1  113781  151.5500  C22 C26        S  NaN   NaN   \n",
       "3      1      2       1  113781  151.5500  C22 C26        S  NaN   135   \n",
       "4      1      2       1  113781  151.5500  C22 C26        S  NaN   NaN   \n",
       "\n",
       "                         home.dest  \n",
       "0                     St Louis, MO  \n",
       "1  Montreal, PQ / Chesterville, ON  \n",
       "2  Montreal, PQ / Chesterville, ON  \n",
       "3  Montreal, PQ / Chesterville, ON  \n",
       "4  Montreal, PQ / Chesterville, ON  "
      ]
     },
     "execution_count": 2,
     "metadata": {},
     "output_type": "execute_result"
    }
   ],
   "source": [
    "titanic_full.head(5)"
   ]
  },
  {
   "cell_type": "markdown",
   "metadata": {},
   "source": [
    "<h2 style=\"color:#6699FF\"> 2) Explore Data</h2>\n",
    "\n",
    "Here, I begin an exploration looking for gaps in the data. Specifically I will search for missing and NaN values. I will also start making hypotheses on which factors could influence survival. I will consider the dismissal of variables that are unlikely to have an impact."
   ]
  },
  {
   "cell_type": "code",
   "execution_count": 3,
   "metadata": {
    "collapsed": false
   },
   "outputs": [
    {
     "name": "stdout",
     "output_type": "stream",
     "text": [
      "['S' 'C' nan 'Q']\n"
     ]
    }
   ],
   "source": [
    "# Search for unique values in categorical variable: embarked\n",
    "# Use this as a tool to seek NaN values\n",
    "print(titanic_full[\"embarked\"].unique())"
   ]
  },
  {
   "cell_type": "markdown",
   "metadata": {},
   "source": [
    "A 'nan' value is initially seen when searching for unique categorical variables in the \"embarked\" column. In order to have data that can be processed by scikit-learn algorithms, we must fill in these missing values.\n",
    "\n",
    "One approach is to replace missing values with the most commonly occuring value. To find this value, I will use pandas <font face=\"courier\">.value_counts()</font>."
   ]
  },
  {
   "cell_type": "code",
   "execution_count": 4,
   "metadata": {
    "collapsed": false
   },
   "outputs": [
    {
     "data": {
      "text/plain": [
       "S    914\n",
       "C    270\n",
       "Q    123\n",
       "dtype: int64"
      ]
     },
     "execution_count": 4,
     "metadata": {},
     "output_type": "execute_result"
    }
   ],
   "source": [
    "embarked_counts = titanic_full[\"embarked\"].value_counts()\n",
    "embarked_counts"
   ]
  },
  {
   "cell_type": "markdown",
   "metadata": {},
   "source": [
    "The <font face=\"courier\">.value_counts()</font> command shows us that the vast majority of embarkments were from 'S'. With some confidence, we can fill in NaN values with 'S'.\n",
    "\n",
    "A quick way to continue our exploration is to use <font face=\"courier\">.isnull().any()</font> to return columns that contain missing values."
   ]
  },
  {
   "cell_type": "code",
   "execution_count": 5,
   "metadata": {
    "collapsed": false
   },
   "outputs": [
    {
     "data": {
      "text/plain": [
       "survived     False\n",
       "name         False\n",
       "sex          False\n",
       "age           True\n",
       "sibsp        False\n",
       "parch        False\n",
       "pclass       False\n",
       "ticket       False\n",
       "fare          True\n",
       "cabin         True\n",
       "embarked      True\n",
       "boat          True\n",
       "body          True\n",
       "home.dest     True\n",
       "dtype: bool"
      ]
     },
     "execution_count": 5,
     "metadata": {},
     "output_type": "execute_result"
    }
   ],
   "source": [
    "# Return booleans regarding whether the column contains null values\n",
    "titanic_full.isnull().any()"
   ]
  },
  {
   "cell_type": "markdown",
   "metadata": {},
   "source": [
    "Our takeaways from this exploration have given us more clarity on what needs to be cleaned. Specifically, values must be filled in for \"embarked\", \"fare\", and \"age\"."
   ]
  },
  {
   "cell_type": "markdown",
   "metadata": {
    "collapsed": true
   },
   "source": [
    "<h2 style=\"color:#6699FF\"> 3) Clean Data</h2>\n",
    "\n",
    "My approach for cleaning the data is as follows:\n",
    "\n",
    "**1. Fill in missing values**\n",
    "* Replace missing age values with median age\n",
    "* Replace missing fare values with median fares\n",
    "* Replace missing categorical values from embarked column with most common occurence (S)\n",
    "\n",
    "**2. Ensure all values are numeric** so that scikit-learn can process and train on the data frame\n",
    "* Binary assignments for gender are suitable (1 and 0)\n",
    "* Embarked codes can be assigned dummy numeric variables\n",
    "\n",
    "**3. Use given information to create useful variables**\n",
    "I decided to create categrorical variables from the name column for titles (Miss., Sir, Captain, etc.) to see if it has an impact on survival.\n",
    "\n",
    "**4. Determine which columns should be ignored as predictors**\n",
    "* Remove columns that have obvious and direct impact on survival (survived, body, boat)\n",
    "* Remove columns with little or no statistical significance (ticket number, cabin, home destination)\n",
    "    * If desired, we can analyze these factors further later (ex. socioeconomic status of destination, cabin proximity to lifeboats)\n",
    "\n",
    "\n",
    "<u>This leaves us with **fare**, **embarked**, **age**, **sex**, **sibsp**, **pclass**, **parch**, and **title** as predictor varibles.</u>"
   ]
  },
  {
   "cell_type": "code",
   "execution_count": 6,
   "metadata": {
    "collapsed": false
   },
   "outputs": [],
   "source": [
    "# Replace missing age values with median age\n",
    "titanic_full[\"age\"] = titanic_full[\"age\"].fillna(titanic_full[\"age\"].median())\n",
    "\n",
    "#replace missing fares with median\n",
    "titanic_full[\"fare\"] = titanic_full[\"fare\"].fillna(titanic_full[\"fare\"].median())"
   ]
  },
  {
   "cell_type": "code",
   "execution_count": 7,
   "metadata": {
    "collapsed": false
   },
   "outputs": [
    {
     "name": "stdout",
     "output_type": "stream",
     "text": [
      "   C  Q  S\n",
      "0  0  0  1\n",
      "1  0  0  1\n",
      "2  0  0  1\n",
      "   survived                            name     sex      age  sibsp  parch  \\\n",
      "0         1   Allen, Miss. Elisabeth Walton  female  29.0000      0      0   \n",
      "1         1  Allison, Master. Hudson Trevor    male   0.9167      1      2   \n",
      "2         0    Allison, Miss. Helen Loraine  female   2.0000      1      2   \n",
      "\n",
      "   pclass  ticket      fare    cabin boat  body  \\\n",
      "0       1   24160  211.3375       B5    2   NaN   \n",
      "1       1  113781  151.5500  C22 C26   11   NaN   \n",
      "2       1  113781  151.5500  C22 C26  NaN   NaN   \n",
      "\n",
      "                         home.dest  C  Q  S  \n",
      "0                     St Louis, MO  0  0  1  \n",
      "1  Montreal, PQ / Chesterville, ON  0  0  1  \n",
      "2  Montreal, PQ / Chesterville, ON  0  0  1  \n"
     ]
    }
   ],
   "source": [
    "# Replace missing values with code S\n",
    "titanic_full[\"embarked\"] = titanic_full[\"embarked\"].fillna(\"S\")\n",
    "\n",
    "# Create dummy variables for embarked column -- three new columns with binary responses to category\n",
    "# embarked_dummies.columns = ['embarked s', 'embarked c', 'embarked q']\n",
    "embarked_dummies = pd.get_dummies(titanic_full['embarked'])\n",
    "\n",
    "# Confirm that the correct columns were created\n",
    "print embarked_dummies.head(3)\n",
    "\n",
    "# Combine data set with new variable columns in new data frame\n",
    "titanic_full_new = pd.concat([titanic_full, embarked_dummies], axis=1); titanic_full_new\n",
    "titanic_full_new = titanic_full_new.drop('embarked', 1)\n",
    "\n",
    "#Confirm that new data frame is correct\n",
    "print titanic_full_new.head(3)"
   ]
  },
  {
   "cell_type": "code",
   "execution_count": 8,
   "metadata": {
    "collapsed": false
   },
   "outputs": [],
   "source": [
    "# Replace all the occurences of male with the number 0, and female with 1\n",
    "titanic_full_new.loc[titanic_full[\"sex\"] == \"male\", \"sex\"] = 0\n",
    "titanic_full_new.loc[titanic_full[\"sex\"] == \"female\", \"sex\"] = 1"
   ]
  },
  {
   "cell_type": "markdown",
   "metadata": {},
   "source": [
    "The code below was directly inspired by: https://www.dataquest.io/mission/75/improving-your-submission/"
   ]
  },
  {
   "cell_type": "code",
   "execution_count": 9,
   "metadata": {
    "collapsed": false,
    "scrolled": true
   },
   "outputs": [
    {
     "name": "stdout",
     "output_type": "stream",
     "text": [
      "Mr          757\n",
      "Miss        260\n",
      "Mrs         197\n",
      "Master       61\n",
      "Dr            8\n",
      "Rev           8\n",
      "Col           4\n",
      "Major         2\n",
      "Mlle          2\n",
      "Ms            2\n",
      "Don           1\n",
      "Capt          1\n",
      "Lady          1\n",
      "Sir           1\n",
      "Countess      1\n",
      "Jonkheer      1\n",
      "Dona          1\n",
      "Mme           1\n",
      "dtype: int64\n"
     ]
    },
    {
     "data": {
      "text/html": [
       "<div>\n",
       "<table border=\"1\" class=\"dataframe\">\n",
       "  <thead>\n",
       "    <tr style=\"text-align: right;\">\n",
       "      <th></th>\n",
       "      <th>survived</th>\n",
       "      <th>name</th>\n",
       "      <th>sex</th>\n",
       "      <th>age</th>\n",
       "      <th>sibsp</th>\n",
       "      <th>parch</th>\n",
       "      <th>pclass</th>\n",
       "      <th>ticket</th>\n",
       "      <th>fare</th>\n",
       "      <th>cabin</th>\n",
       "      <th>boat</th>\n",
       "      <th>body</th>\n",
       "      <th>home.dest</th>\n",
       "      <th>C</th>\n",
       "      <th>Q</th>\n",
       "      <th>S</th>\n",
       "      <th>name</th>\n",
       "    </tr>\n",
       "  </thead>\n",
       "  <tbody>\n",
       "    <tr>\n",
       "      <th>0</th>\n",
       "      <td>1</td>\n",
       "      <td>Allen, Miss. Elisabeth Walton</td>\n",
       "      <td>1</td>\n",
       "      <td>29.0000</td>\n",
       "      <td>0</td>\n",
       "      <td>0</td>\n",
       "      <td>1</td>\n",
       "      <td>24160</td>\n",
       "      <td>211.3375</td>\n",
       "      <td>B5</td>\n",
       "      <td>2</td>\n",
       "      <td>NaN</td>\n",
       "      <td>St Louis, MO</td>\n",
       "      <td>0</td>\n",
       "      <td>0</td>\n",
       "      <td>1</td>\n",
       "      <td>Miss</td>\n",
       "    </tr>\n",
       "    <tr>\n",
       "      <th>1</th>\n",
       "      <td>1</td>\n",
       "      <td>Allison, Master. Hudson Trevor</td>\n",
       "      <td>0</td>\n",
       "      <td>0.9167</td>\n",
       "      <td>1</td>\n",
       "      <td>2</td>\n",
       "      <td>1</td>\n",
       "      <td>113781</td>\n",
       "      <td>151.5500</td>\n",
       "      <td>C22 C26</td>\n",
       "      <td>11</td>\n",
       "      <td>NaN</td>\n",
       "      <td>Montreal, PQ / Chesterville, ON</td>\n",
       "      <td>0</td>\n",
       "      <td>0</td>\n",
       "      <td>1</td>\n",
       "      <td>Master</td>\n",
       "    </tr>\n",
       "    <tr>\n",
       "      <th>2</th>\n",
       "      <td>0</td>\n",
       "      <td>Allison, Miss. Helen Loraine</td>\n",
       "      <td>1</td>\n",
       "      <td>2.0000</td>\n",
       "      <td>1</td>\n",
       "      <td>2</td>\n",
       "      <td>1</td>\n",
       "      <td>113781</td>\n",
       "      <td>151.5500</td>\n",
       "      <td>C22 C26</td>\n",
       "      <td>NaN</td>\n",
       "      <td>NaN</td>\n",
       "      <td>Montreal, PQ / Chesterville, ON</td>\n",
       "      <td>0</td>\n",
       "      <td>0</td>\n",
       "      <td>1</td>\n",
       "      <td>Miss</td>\n",
       "    </tr>\n",
       "  </tbody>\n",
       "</table>\n",
       "</div>"
      ],
      "text/plain": [
       "   survived                            name sex      age  sibsp  parch  \\\n",
       "0         1   Allen, Miss. Elisabeth Walton   1  29.0000      0      0   \n",
       "1         1  Allison, Master. Hudson Trevor   0   0.9167      1      2   \n",
       "2         0    Allison, Miss. Helen Loraine   1   2.0000      1      2   \n",
       "\n",
       "   pclass  ticket      fare    cabin boat  body  \\\n",
       "0       1   24160  211.3375       B5    2   NaN   \n",
       "1       1  113781  151.5500  C22 C26   11   NaN   \n",
       "2       1  113781  151.5500  C22 C26  NaN   NaN   \n",
       "\n",
       "                         home.dest  C  Q  S    name  \n",
       "0                     St Louis, MO  0  0  1    Miss  \n",
       "1  Montreal, PQ / Chesterville, ON  0  0  1  Master  \n",
       "2  Montreal, PQ / Chesterville, ON  0  0  1    Miss  "
      ]
     },
     "execution_count": 9,
     "metadata": {},
     "output_type": "execute_result"
    }
   ],
   "source": [
    "# Create titles column from current name column\n",
    "\n",
    "import re\n",
    "\n",
    "def get_title(name):\n",
    "    title_search = re.search(' ([A-Za-z]+)\\.', name)\n",
    "    if title_search:\n",
    "        return title_search.group(1)\n",
    "    return \"\"\n",
    "\n",
    "titles = titanic_full_new['name'].apply(get_title)\n",
    "\n",
    "titles.head(3)\n",
    "\n",
    "titanic_full_new = pd.concat([titanic_full_new, titles], axis=1)\n",
    "\n",
    "#titanic_full_new = pd.concat([titanic_full_new, titles], axis=1); titanic_full_new\n",
    "\n",
    "# Print how often each title occurs\n",
    "print(pd.value_counts(titles))\n",
    "\n",
    "titanic_full_new.head(3)"
   ]
  },
  {
   "cell_type": "code",
   "execution_count": 10,
   "metadata": {
    "collapsed": false
   },
   "outputs": [
    {
     "data": {
      "text/html": [
       "<div>\n",
       "<table border=\"1\" class=\"dataframe\">\n",
       "  <thead>\n",
       "    <tr style=\"text-align: right;\">\n",
       "      <th></th>\n",
       "      <th>survived</th>\n",
       "      <th>name</th>\n",
       "      <th>sex</th>\n",
       "      <th>age</th>\n",
       "      <th>sibsp</th>\n",
       "      <th>parch</th>\n",
       "      <th>pclass</th>\n",
       "      <th>ticket</th>\n",
       "      <th>fare</th>\n",
       "      <th>cabin</th>\n",
       "      <th>boat</th>\n",
       "      <th>body</th>\n",
       "      <th>home.dest</th>\n",
       "      <th>C</th>\n",
       "      <th>Q</th>\n",
       "      <th>S</th>\n",
       "      <th>title</th>\n",
       "    </tr>\n",
       "  </thead>\n",
       "  <tbody>\n",
       "    <tr>\n",
       "      <th>0</th>\n",
       "      <td>1</td>\n",
       "      <td>Allen, Miss. Elisabeth Walton</td>\n",
       "      <td>1</td>\n",
       "      <td>29.0000</td>\n",
       "      <td>0</td>\n",
       "      <td>0</td>\n",
       "      <td>1</td>\n",
       "      <td>24160</td>\n",
       "      <td>211.3375</td>\n",
       "      <td>B5</td>\n",
       "      <td>2</td>\n",
       "      <td>NaN</td>\n",
       "      <td>St Louis, MO</td>\n",
       "      <td>0</td>\n",
       "      <td>0</td>\n",
       "      <td>1</td>\n",
       "      <td>Miss</td>\n",
       "    </tr>\n",
       "    <tr>\n",
       "      <th>1</th>\n",
       "      <td>1</td>\n",
       "      <td>Allison, Master. Hudson Trevor</td>\n",
       "      <td>0</td>\n",
       "      <td>0.9167</td>\n",
       "      <td>1</td>\n",
       "      <td>2</td>\n",
       "      <td>1</td>\n",
       "      <td>113781</td>\n",
       "      <td>151.5500</td>\n",
       "      <td>C22 C26</td>\n",
       "      <td>11</td>\n",
       "      <td>NaN</td>\n",
       "      <td>Montreal, PQ / Chesterville, ON</td>\n",
       "      <td>0</td>\n",
       "      <td>0</td>\n",
       "      <td>1</td>\n",
       "      <td>Master</td>\n",
       "    </tr>\n",
       "    <tr>\n",
       "      <th>2</th>\n",
       "      <td>0</td>\n",
       "      <td>Allison, Miss. Helen Loraine</td>\n",
       "      <td>1</td>\n",
       "      <td>2.0000</td>\n",
       "      <td>1</td>\n",
       "      <td>2</td>\n",
       "      <td>1</td>\n",
       "      <td>113781</td>\n",
       "      <td>151.5500</td>\n",
       "      <td>C22 C26</td>\n",
       "      <td>NaN</td>\n",
       "      <td>NaN</td>\n",
       "      <td>Montreal, PQ / Chesterville, ON</td>\n",
       "      <td>0</td>\n",
       "      <td>0</td>\n",
       "      <td>1</td>\n",
       "      <td>Miss</td>\n",
       "    </tr>\n",
       "  </tbody>\n",
       "</table>\n",
       "</div>"
      ],
      "text/plain": [
       "   survived                            name sex      age  sibsp  parch  \\\n",
       "0         1   Allen, Miss. Elisabeth Walton   1  29.0000      0      0   \n",
       "1         1  Allison, Master. Hudson Trevor   0   0.9167      1      2   \n",
       "2         0    Allison, Miss. Helen Loraine   1   2.0000      1      2   \n",
       "\n",
       "   pclass  ticket      fare    cabin boat  body  \\\n",
       "0       1   24160  211.3375       B5    2   NaN   \n",
       "1       1  113781  151.5500  C22 C26   11   NaN   \n",
       "2       1  113781  151.5500  C22 C26  NaN   NaN   \n",
       "\n",
       "                         home.dest  C  Q  S   title  \n",
       "0                     St Louis, MO  0  0  1    Miss  \n",
       "1  Montreal, PQ / Chesterville, ON  0  0  1  Master  \n",
       "2  Montreal, PQ / Chesterville, ON  0  0  1    Miss  "
      ]
     },
     "execution_count": 10,
     "metadata": {},
     "output_type": "execute_result"
    }
   ],
   "source": [
    "# Rename duplicated 'name' column to 'titles'\n",
    "# Perform column name replacement more elegantly if time\n",
    "\n",
    "titanic_full_new.columns = ['survived', 'name', 'sex', 'age', 'sibsp', 'parch', 'pclass', 'ticket', 'fare', 'cabin', 'boat', 'body', 'home.dest', 'C', 'Q', 'S', 'title']\n",
    "titanic_full_new.head(3)"
   ]
  },
  {
   "cell_type": "code",
   "execution_count": 11,
   "metadata": {
    "collapsed": false
   },
   "outputs": [
    {
     "data": {
      "text/html": [
       "<div>\n",
       "<table border=\"1\" class=\"dataframe\">\n",
       "  <thead>\n",
       "    <tr style=\"text-align: right;\">\n",
       "      <th></th>\n",
       "      <th>survived</th>\n",
       "      <th>sex</th>\n",
       "      <th>age</th>\n",
       "      <th>sibsp</th>\n",
       "      <th>parch</th>\n",
       "      <th>pclass</th>\n",
       "      <th>fare</th>\n",
       "      <th>C</th>\n",
       "      <th>Q</th>\n",
       "      <th>S</th>\n",
       "      <th>title</th>\n",
       "    </tr>\n",
       "  </thead>\n",
       "  <tbody>\n",
       "    <tr>\n",
       "      <th>0</th>\n",
       "      <td>1</td>\n",
       "      <td>1</td>\n",
       "      <td>29.0000</td>\n",
       "      <td>0</td>\n",
       "      <td>0</td>\n",
       "      <td>1</td>\n",
       "      <td>211.3375</td>\n",
       "      <td>0</td>\n",
       "      <td>0</td>\n",
       "      <td>1</td>\n",
       "      <td>Miss</td>\n",
       "    </tr>\n",
       "    <tr>\n",
       "      <th>1</th>\n",
       "      <td>1</td>\n",
       "      <td>0</td>\n",
       "      <td>0.9167</td>\n",
       "      <td>1</td>\n",
       "      <td>2</td>\n",
       "      <td>1</td>\n",
       "      <td>151.5500</td>\n",
       "      <td>0</td>\n",
       "      <td>0</td>\n",
       "      <td>1</td>\n",
       "      <td>Master</td>\n",
       "    </tr>\n",
       "  </tbody>\n",
       "</table>\n",
       "</div>"
      ],
      "text/plain": [
       "   survived sex      age  sibsp  parch  pclass      fare  C  Q  S   title\n",
       "0         1   1  29.0000      0      0       1  211.3375  0  0  1    Miss\n",
       "1         1   0   0.9167      1      2       1  151.5500  0  0  1  Master"
      ]
     },
     "execution_count": 11,
     "metadata": {},
     "output_type": "execute_result"
    }
   ],
   "source": [
    "# Remove unnecessary columns from new data frame\n",
    "\n",
    "for i in ['name', 'ticket', 'cabin', 'boat', 'body', 'home.dest']:\n",
    "    titanic_full_new = titanic_full_new.drop(i, 1)\n",
    "\n",
    "titanic_full_new.head(2)"
   ]
  },
  {
   "cell_type": "code",
   "execution_count": 12,
   "metadata": {
    "collapsed": false
   },
   "outputs": [
    {
     "data": {
      "text/html": [
       "<div>\n",
       "<table border=\"1\" class=\"dataframe\">\n",
       "  <thead>\n",
       "    <tr style=\"text-align: right;\">\n",
       "      <th></th>\n",
       "      <th>survived</th>\n",
       "      <th>sex</th>\n",
       "      <th>age</th>\n",
       "      <th>sibsp</th>\n",
       "      <th>parch</th>\n",
       "      <th>pclass</th>\n",
       "      <th>fare</th>\n",
       "      <th>C</th>\n",
       "      <th>Q</th>\n",
       "      <th>S</th>\n",
       "      <th>title</th>\n",
       "    </tr>\n",
       "  </thead>\n",
       "  <tbody>\n",
       "    <tr>\n",
       "      <th>0</th>\n",
       "      <td>1</td>\n",
       "      <td>1</td>\n",
       "      <td>29.0000</td>\n",
       "      <td>0</td>\n",
       "      <td>0</td>\n",
       "      <td>1</td>\n",
       "      <td>211.3375</td>\n",
       "      <td>0</td>\n",
       "      <td>0</td>\n",
       "      <td>1</td>\n",
       "      <td>Miss</td>\n",
       "    </tr>\n",
       "    <tr>\n",
       "      <th>1</th>\n",
       "      <td>1</td>\n",
       "      <td>0</td>\n",
       "      <td>0.9167</td>\n",
       "      <td>1</td>\n",
       "      <td>2</td>\n",
       "      <td>1</td>\n",
       "      <td>151.5500</td>\n",
       "      <td>0</td>\n",
       "      <td>0</td>\n",
       "      <td>1</td>\n",
       "      <td>Master</td>\n",
       "    </tr>\n",
       "    <tr>\n",
       "      <th>2</th>\n",
       "      <td>0</td>\n",
       "      <td>1</td>\n",
       "      <td>2.0000</td>\n",
       "      <td>1</td>\n",
       "      <td>2</td>\n",
       "      <td>1</td>\n",
       "      <td>151.5500</td>\n",
       "      <td>0</td>\n",
       "      <td>0</td>\n",
       "      <td>1</td>\n",
       "      <td>Miss</td>\n",
       "    </tr>\n",
       "  </tbody>\n",
       "</table>\n",
       "</div>"
      ],
      "text/plain": [
       "   survived sex      age  sibsp  parch  pclass      fare  C  Q  S   title\n",
       "0         1   1  29.0000      0      0       1  211.3375  0  0  1    Miss\n",
       "1         1   0   0.9167      1      2       1  151.5500  0  0  1  Master\n",
       "2         0   1   2.0000      1      2       1  151.5500  0  0  1    Miss"
      ]
     },
     "execution_count": 12,
     "metadata": {},
     "output_type": "execute_result"
    }
   ],
   "source": [
    "# Turn 'title' into categorical dummy variables\n",
    "# If there are less than two occurances of the title, assign it 'Mr'\n",
    "\n",
    "#titles.head(3)\n",
    "\n",
    "#title_occurance = (pd.value_counts(titles))\n",
    "\n",
    "#print title_occurance\n",
    "\n",
    "titles_irrelevant = ['Major', 'Mlle', 'Ms', 'Don', 'Capt', 'Lady', 'Sir', 'Countess', 'Jonkheer', 'Dona', 'Mme']\n",
    "\n",
    "for i in titles_irrelevant:\n",
    "#    titanic_full_new[\"title\"].replace([i], [\"Mr\"])\n",
    "    \n",
    "    titanic_full_new['title'] = titanic_full_new['title'].replace({i: 'Mr'})\n",
    "                             \n",
    "titanic_full_new.head(3)\n"
   ]
  },
  {
   "cell_type": "code",
   "execution_count": 13,
   "metadata": {
    "collapsed": false
   },
   "outputs": [
    {
     "name": "stdout",
     "output_type": "stream",
     "text": [
      "['Miss' 'Master' 'Mr' 'Mrs' 'Col' 'Dr' 'Rev']\n"
     ]
    }
   ],
   "source": [
    "print(titanic_full_new[\"title\"].unique())"
   ]
  },
  {
   "cell_type": "code",
   "execution_count": 14,
   "metadata": {
    "collapsed": false
   },
   "outputs": [
    {
     "name": "stdout",
     "output_type": "stream",
     "text": [
      "   Col  Dr  Master  Miss  Mr  Mrs  Rev\n",
      "0    0   0       0     1   0    0    0\n",
      "1    0   0       1     0   0    0    0\n",
      "2    0   0       0     1   0    0    0\n"
     ]
    },
    {
     "data": {
      "text/html": [
       "<div>\n",
       "<table border=\"1\" class=\"dataframe\">\n",
       "  <thead>\n",
       "    <tr style=\"text-align: right;\">\n",
       "      <th></th>\n",
       "      <th>survived</th>\n",
       "      <th>sex</th>\n",
       "      <th>age</th>\n",
       "      <th>sibsp</th>\n",
       "      <th>parch</th>\n",
       "      <th>pclass</th>\n",
       "      <th>fare</th>\n",
       "      <th>C</th>\n",
       "      <th>Q</th>\n",
       "      <th>S</th>\n",
       "      <th>title</th>\n",
       "      <th>Col</th>\n",
       "      <th>Dr</th>\n",
       "      <th>Master</th>\n",
       "      <th>Miss</th>\n",
       "      <th>Mr</th>\n",
       "      <th>Mrs</th>\n",
       "      <th>Rev</th>\n",
       "    </tr>\n",
       "  </thead>\n",
       "  <tbody>\n",
       "    <tr>\n",
       "      <th>0</th>\n",
       "      <td>1</td>\n",
       "      <td>1</td>\n",
       "      <td>29.0000</td>\n",
       "      <td>0</td>\n",
       "      <td>0</td>\n",
       "      <td>1</td>\n",
       "      <td>211.3375</td>\n",
       "      <td>0</td>\n",
       "      <td>0</td>\n",
       "      <td>1</td>\n",
       "      <td>Miss</td>\n",
       "      <td>0</td>\n",
       "      <td>0</td>\n",
       "      <td>0</td>\n",
       "      <td>1</td>\n",
       "      <td>0</td>\n",
       "      <td>0</td>\n",
       "      <td>0</td>\n",
       "    </tr>\n",
       "    <tr>\n",
       "      <th>1</th>\n",
       "      <td>1</td>\n",
       "      <td>0</td>\n",
       "      <td>0.9167</td>\n",
       "      <td>1</td>\n",
       "      <td>2</td>\n",
       "      <td>1</td>\n",
       "      <td>151.5500</td>\n",
       "      <td>0</td>\n",
       "      <td>0</td>\n",
       "      <td>1</td>\n",
       "      <td>Master</td>\n",
       "      <td>0</td>\n",
       "      <td>0</td>\n",
       "      <td>1</td>\n",
       "      <td>0</td>\n",
       "      <td>0</td>\n",
       "      <td>0</td>\n",
       "      <td>0</td>\n",
       "    </tr>\n",
       "    <tr>\n",
       "      <th>2</th>\n",
       "      <td>0</td>\n",
       "      <td>1</td>\n",
       "      <td>2.0000</td>\n",
       "      <td>1</td>\n",
       "      <td>2</td>\n",
       "      <td>1</td>\n",
       "      <td>151.5500</td>\n",
       "      <td>0</td>\n",
       "      <td>0</td>\n",
       "      <td>1</td>\n",
       "      <td>Miss</td>\n",
       "      <td>0</td>\n",
       "      <td>0</td>\n",
       "      <td>0</td>\n",
       "      <td>1</td>\n",
       "      <td>0</td>\n",
       "      <td>0</td>\n",
       "      <td>0</td>\n",
       "    </tr>\n",
       "    <tr>\n",
       "      <th>3</th>\n",
       "      <td>0</td>\n",
       "      <td>0</td>\n",
       "      <td>30.0000</td>\n",
       "      <td>1</td>\n",
       "      <td>2</td>\n",
       "      <td>1</td>\n",
       "      <td>151.5500</td>\n",
       "      <td>0</td>\n",
       "      <td>0</td>\n",
       "      <td>1</td>\n",
       "      <td>Mr</td>\n",
       "      <td>0</td>\n",
       "      <td>0</td>\n",
       "      <td>0</td>\n",
       "      <td>0</td>\n",
       "      <td>1</td>\n",
       "      <td>0</td>\n",
       "      <td>0</td>\n",
       "    </tr>\n",
       "  </tbody>\n",
       "</table>\n",
       "</div>"
      ],
      "text/plain": [
       "   survived sex      age  sibsp  parch  pclass      fare  C  Q  S   title  \\\n",
       "0         1   1  29.0000      0      0       1  211.3375  0  0  1    Miss   \n",
       "1         1   0   0.9167      1      2       1  151.5500  0  0  1  Master   \n",
       "2         0   1   2.0000      1      2       1  151.5500  0  0  1    Miss   \n",
       "3         0   0  30.0000      1      2       1  151.5500  0  0  1      Mr   \n",
       "\n",
       "   Col  Dr  Master  Miss  Mr  Mrs  Rev  \n",
       "0    0   0       0     1   0    0    0  \n",
       "1    0   0       1     0   0    0    0  \n",
       "2    0   0       0     1   0    0    0  \n",
       "3    0   0       0     0   1    0    0  "
      ]
     },
     "execution_count": 14,
     "metadata": {},
     "output_type": "execute_result"
    }
   ],
   "source": [
    "# Assign dummy variables for title categories\n",
    "\n",
    "# Create dummy variables for title column -- seven new columns with binary responses to categorical title\n",
    "# embarked_dummies.columns = ['embarked s', 'embarked c', 'embarked q']\n",
    "title_dummies = pd.get_dummies(titanic_full_new[\"title\"])\n",
    "\n",
    "# Confirm that the correct columns were created\n",
    "print title_dummies.head(3)\n",
    "\n",
    "# Combine data set with new variable columns in new data frame\n",
    "titanic_full_new = pd.concat([titanic_full_new, title_dummies], axis=1); titanic_full_new\n",
    "titanic_full_new.head(4)"
   ]
  },
  {
   "cell_type": "code",
   "execution_count": 15,
   "metadata": {
    "collapsed": false
   },
   "outputs": [
    {
     "data": {
      "text/html": [
       "<div>\n",
       "<table border=\"1\" class=\"dataframe\">\n",
       "  <thead>\n",
       "    <tr style=\"text-align: right;\">\n",
       "      <th></th>\n",
       "      <th>survived</th>\n",
       "      <th>sex</th>\n",
       "      <th>age</th>\n",
       "      <th>sibsp</th>\n",
       "      <th>parch</th>\n",
       "      <th>pclass</th>\n",
       "      <th>fare</th>\n",
       "      <th>C</th>\n",
       "      <th>Q</th>\n",
       "      <th>S</th>\n",
       "      <th>Col</th>\n",
       "      <th>Dr</th>\n",
       "      <th>Master</th>\n",
       "      <th>Miss</th>\n",
       "      <th>Mr</th>\n",
       "      <th>Mrs</th>\n",
       "      <th>Rev</th>\n",
       "    </tr>\n",
       "  </thead>\n",
       "  <tbody>\n",
       "    <tr>\n",
       "      <th>0</th>\n",
       "      <td>1</td>\n",
       "      <td>1</td>\n",
       "      <td>29.0000</td>\n",
       "      <td>0</td>\n",
       "      <td>0</td>\n",
       "      <td>1</td>\n",
       "      <td>211.3375</td>\n",
       "      <td>0</td>\n",
       "      <td>0</td>\n",
       "      <td>1</td>\n",
       "      <td>0</td>\n",
       "      <td>0</td>\n",
       "      <td>0</td>\n",
       "      <td>1</td>\n",
       "      <td>0</td>\n",
       "      <td>0</td>\n",
       "      <td>0</td>\n",
       "    </tr>\n",
       "    <tr>\n",
       "      <th>1</th>\n",
       "      <td>1</td>\n",
       "      <td>0</td>\n",
       "      <td>0.9167</td>\n",
       "      <td>1</td>\n",
       "      <td>2</td>\n",
       "      <td>1</td>\n",
       "      <td>151.5500</td>\n",
       "      <td>0</td>\n",
       "      <td>0</td>\n",
       "      <td>1</td>\n",
       "      <td>0</td>\n",
       "      <td>0</td>\n",
       "      <td>1</td>\n",
       "      <td>0</td>\n",
       "      <td>0</td>\n",
       "      <td>0</td>\n",
       "      <td>0</td>\n",
       "    </tr>\n",
       "    <tr>\n",
       "      <th>2</th>\n",
       "      <td>0</td>\n",
       "      <td>1</td>\n",
       "      <td>2.0000</td>\n",
       "      <td>1</td>\n",
       "      <td>2</td>\n",
       "      <td>1</td>\n",
       "      <td>151.5500</td>\n",
       "      <td>0</td>\n",
       "      <td>0</td>\n",
       "      <td>1</td>\n",
       "      <td>0</td>\n",
       "      <td>0</td>\n",
       "      <td>0</td>\n",
       "      <td>1</td>\n",
       "      <td>0</td>\n",
       "      <td>0</td>\n",
       "      <td>0</td>\n",
       "    </tr>\n",
       "  </tbody>\n",
       "</table>\n",
       "</div>"
      ],
      "text/plain": [
       "   survived sex      age  sibsp  parch  pclass      fare  C  Q  S  Col  Dr  \\\n",
       "0         1   1  29.0000      0      0       1  211.3375  0  0  1    0   0   \n",
       "1         1   0   0.9167      1      2       1  151.5500  0  0  1    0   0   \n",
       "2         0   1   2.0000      1      2       1  151.5500  0  0  1    0   0   \n",
       "\n",
       "   Master  Miss  Mr  Mrs  Rev  \n",
       "0       0     1   0    0    0  \n",
       "1       1     0   0    0    0  \n",
       "2       0     1   0    0    0  "
      ]
     },
     "execution_count": 15,
     "metadata": {},
     "output_type": "execute_result"
    }
   ],
   "source": [
    "titanic_full_new = titanic_full_new.drop(\"title\", 1)\n",
    "\n",
    "#Confirm that new data frame is correct\n",
    "titanic_full_new.head(3)"
   ]
  },
  {
   "cell_type": "code",
   "execution_count": 16,
   "metadata": {
    "collapsed": false
   },
   "outputs": [
    {
     "data": {
      "text/plain": [
       "survived    False\n",
       "sex         False\n",
       "age         False\n",
       "sibsp       False\n",
       "parch       False\n",
       "pclass      False\n",
       "fare        False\n",
       "C           False\n",
       "Q           False\n",
       "S           False\n",
       "Col         False\n",
       "Dr          False\n",
       "Master      False\n",
       "Miss        False\n",
       "Mr          False\n",
       "Mrs         False\n",
       "Rev         False\n",
       "dtype: bool"
      ]
     },
     "execution_count": 16,
     "metadata": {},
     "output_type": "execute_result"
    }
   ],
   "source": [
    "# Check to make sure there are now no null values\n",
    "titanic_full_new.isnull().any()"
   ]
  },
  {
   "cell_type": "markdown",
   "metadata": {
    "collapsed": false
   },
   "source": [
    "<h2 style=\"color:#6699FF\"> 4) Visualize Data</h2>\n",
    "\n",
    "Here we can utilize plotting tools such as **matplotlib**, **statsmodels**, and **seaborn** to continue exploring the data and creating hypotheses on which variables will most influence survival."
   ]
  },
  {
   "cell_type": "code",
   "execution_count": 17,
   "metadata": {
    "collapsed": false
   },
   "outputs": [],
   "source": [
    "# Import modules\n",
    "import numpy as np\n",
    "import statsmodels.api as sm\n",
    "import matplotlib.pyplot as plt\n",
    "from mpl_toolkits.mplot3d import Axes3D\n",
    "from patsy import dmatrices\n",
    "from sklearn.linear_model import LogisticRegression\n",
    "from sklearn.cross_validation import train_test_split\n",
    "from sklearn import metrics\n",
    "from sklearn.cross_validation import cross_val_score\n",
    "import seaborn"
   ]
  },
  {
   "cell_type": "code",
   "execution_count": 18,
   "metadata": {
    "collapsed": true
   },
   "outputs": [],
   "source": [
    "# Show plots in the notebook\n",
    "%matplotlib inline"
   ]
  },
  {
   "cell_type": "code",
   "execution_count": 19,
   "metadata": {
    "collapsed": false
   },
   "outputs": [
    {
     "data": {
      "text/plain": [
       "<matplotlib.text.Text at 0x7f1add931c90>"
      ]
     },
     "execution_count": 19,
     "metadata": {},
     "output_type": "execute_result"
    },
    {
     "data": {
      "image/png": "[encoded data removed]",
      "text/plain": [
       "<matplotlib.figure.Figure at 0x7f1af230a050>"
      ]
     },
     "metadata": {},
     "output_type": "display_data"
    }
   ],
   "source": [
    "# Histogram of sibsp\n",
    "# Remove this because it is boring\n",
    "titanic_full_new.sibsp.hist()\n",
    "plt.title('Counts of Siblings and Spouses Onboard')\n",
    "plt.xlabel('Number Siblings/Spouses Onboard')\n",
    "plt.ylabel('Frequency')"
   ]
  },
  {
   "cell_type": "code",
   "execution_count": 20,
   "metadata": {
    "collapsed": false
   },
   "outputs": [
    {
     "data": {
      "text/plain": [
       "<matplotlib.text.Text at 0x7f1add7a2e10>"
      ]
     },
     "execution_count": 20,
     "metadata": {},
     "output_type": "execute_result"
    },
    {
     "data": {
      "image/png": "[encoded data removed]",
      "text/plain": [
       "<matplotlib.figure.Figure at 0x7f1add8ad710>"
      ]
     },
     "metadata": {},
     "output_type": "display_data"
    }
   ],
   "source": [
    "# barplot of sibsp rating grouped by survival (1 or 2)\n",
    "pd.crosstab(titanic_full.sibsp, titanic_full.survived.astype(bool)).plot(kind='bar')\n",
    "plt.title('Sibling/Spouse distrivbution grouped by Survival')\n",
    "plt.xlabel('Numbers of Sibsp')\n",
    "plt.ylabel('Frequency')"
   ]
  },
  {
   "cell_type": "code",
   "execution_count": 21,
   "metadata": {
    "collapsed": false
   },
   "outputs": [
    {
     "name": "stdout",
     "output_type": "stream",
     "text": [
      "Survival Probability Based on Class and Gender\n"
     ]
    },
    {
     "data": {
      "text/plain": [
       "<seaborn.axisgrid.FacetGrid at 0x7f1add6ecf50>"
      ]
     },
     "execution_count": 21,
     "metadata": {},
     "output_type": "execute_result"
    },
    {
     "data": {
      "image/png": "[encoded data removed]",
      "text/plain": [
       "<matplotlib.figure.Figure at 0x7f1add696b10>"
      ]
     },
     "metadata": {},
     "output_type": "display_data"
    }
   ],
   "source": [
    "import seaborn as sns\n",
    "sns.set(style=\"whitegrid\")\n",
    "\n",
    "# sns.factorplot.title('Survival Probability Based on Class and Gender')\n",
    "print \"Survival Probability Based on Class and Gender\"\n",
    "\n",
    "# Draw a nested barplot to show survival for class and sex\n",
    "g = sns.factorplot(x=\"pclass\", y=\"survived\", hue=\"sex\", data=titanic_full_new, size=6, kind=\"bar\", palette=\"muted\")\n",
    "g.despine(left=True)\n",
    "g.set_ylabels(\"survival probability\")"
   ]
  },
  {
   "cell_type": "code",
   "execution_count": 22,
   "metadata": {
    "collapsed": false
   },
   "outputs": [
    {
     "data": {
      "image/png": "[encoded data removed]",
      "text/plain": [
       "<matplotlib.figure.Figure at 0x7f1add6ecdd0>"
      ]
     },
     "metadata": {},
     "output_type": "display_data"
    }
   ],
   "source": [
    "# Boxplot of ticket price with respect to survival\n",
    "\n",
    "import seaborn as sns\n",
    "sns.set(style=\"ticks\")\n",
    "\n",
    "sns.plt.title('Ticket Price Grouped by Survival')\n",
    "\n",
    "# Draw a nested boxplot to show bills by day and sex\n",
    "sns.boxplot(x=\"survived\", y=\"fare\", hue=\"survived\", data=titanic_full_new, palette=\"PRGn\")\n",
    "sns.despine(offset=10, trim=True)"
   ]
  },
  {
   "cell_type": "code",
   "execution_count": 23,
   "metadata": {
    "collapsed": false
   },
   "outputs": [
    {
     "data": {
      "image/png": "[encoded data removed]",
      "text/plain": [
       "<matplotlib.figure.Figure at 0x7f1add6ecf90>"
      ]
     },
     "metadata": {},
     "output_type": "display_data"
    },
    {
     "data": {
      "text/plain": [
       "<matplotlib.figure.Figure at 0x7f1add655310>"
      ]
     },
     "metadata": {},
     "output_type": "display_data"
    }
   ],
   "source": [
    "# 3D Visualization\n",
    "\n",
    "# from: https://www.kaggle.com/hekkon/titanic/testing/files\n",
    "\n",
    "import matplotlib.pyplot as plt\n",
    "from mpl_toolkits.mplot3d import Axes3D\n",
    "\n",
    "from sklearn.cross_validation import train_test_split\n",
    "titanic_train, titanic_test = train_test_split(titanic_full_new, test_size = 0.3)\n",
    "\n",
    "fig = plt.figure()\n",
    "ax = fig.add_subplot(111, projection='3d')\n",
    "\n",
    "for n,point in titanic_train.iterrows():\n",
    "    gender = point['sex']\n",
    "    pclass = point['pclass'] + np.random.rand()/10\n",
    "    surv = point['survived'] \n",
    "    third_feature = point['sibsp'] + np.random.rand()/10\n",
    "    color = 'blue' if surv else 'red'\n",
    "\n",
    "    ax.scatter(gender, pclass, third_feature, c=color)\n",
    "\n",
    "plt.title('Visualization of Survival (Blue) with Respect to Class and Relationships')\n",
    "ax.set_xlabel('Gender')\n",
    "ax.set_ylabel('Class')\n",
    "ax.set_zlabel('Number of Siblings/Spouses Onboard')\n",
    "\n",
    "plt.show()\n",
    "\n",
    "plt.savefig('viz.png')"
   ]
  },
  {
   "cell_type": "markdown",
   "metadata": {},
   "source": [
    "<h2 style=\"color:#6699FF\"> 5) Build Models</h2>\n",
    "\n",
    "Now, onto the juicy stuff! We will train multiple models based on our (predicted to be) important variables and their effect on survival.\n",
    "\n",
    "1. Start by splitting our full test set into a training (70%) and test set (30%)\n",
    "2. Implement **logistic regression**\n",
    "    <br>&nbsp;&nbsp;&nbsp;&nbsp;An equation of close fit taking into account predictive variables and binary outcome</br>\n",
    "3. **Random forests**<br>&nbsp;&nbsp;&nbsp;&nbsp;Many decision trees to trace occurance of paths based on likely splits</br> \n",
    "4. Support vector machines\n",
    "5. Naive bayes\n"
   ]
  },
  {
   "cell_type": "code",
   "execution_count": 24,
   "metadata": {
    "collapsed": false
   },
   "outputs": [],
   "source": [
    "# Split full data set for training and testing purposes\n",
    "\n",
    "from sklearn.cross_validation import train_test_split\n",
    "\n",
    "titanic_train, titanic_test = train_test_split(titanic_full_new, test_size = 0.3)"
   ]
  },
  {
   "cell_type": "markdown",
   "metadata": {
    "collapsed": true
   },
   "source": [
    "<u><h4 style=\"color:#6699FF\">Logistic Regression</h4></u>"
   ]
  },
  {
   "cell_type": "code",
   "execution_count": 25,
   "metadata": {
    "collapsed": false
   },
   "outputs": [
    {
     "name": "stdout",
     "output_type": "stream",
     "text": [
      "Index([u'Intercept', u'sex[T.1]', u'age', u'sibsp', u'parch', u'pclass',\n",
      "       u'fare', u'C', u'Q', u'S', u'Col', u'Dr', u'Master', u'Miss', u'Mr',\n",
      "       u'Mrs', u'Rev'],\n",
      "      dtype='object')\n"
     ]
    }
   ],
   "source": [
    "# Prepare data for logistic regression\n",
    "\n",
    "from patsy import dmatrices\n",
    "\n",
    "y, x = dmatrices('survived ~ sex + age + sibsp + parch + pclass + fare + C + Q + S + Col + Dr + Master + Miss + Mr + Mrs + Rev',\n",
    "                 titanic_train, return_type=\"dataframe\")\n",
    "\n",
    "y_test, x_test = dmatrices('survived ~ sex + age + sibsp + parch + pclass + fare + + C + Q + S + Col + Dr + Master + Miss + Mr + Mrs + Rev',\n",
    "                           titanic_test, return_type=\"dataframe\")\n",
    "\n",
    "print x.columns"
   ]
  },
  {
   "cell_type": "code",
   "execution_count": 26,
   "metadata": {
    "collapsed": false
   },
   "outputs": [
    {
     "data": {
      "text/plain": [
       "0.77099236641221369"
      ]
     },
     "execution_count": 26,
     "metadata": {},
     "output_type": "execute_result"
    }
   ],
   "source": [
    "import numpy as np\n",
    "\n",
    "# Flatten y into a 1-D array\n",
    "y = np.ravel(y)\n",
    "\n",
    "# Initiate a logistic regression model, and fit with X and y\n",
    "LRmodel = LogisticRegression()\n",
    "LRmodel = LRmodel.fit(x, y)\n",
    "\n",
    "# Check the accuracy on the training set\n",
    "LRmodel.score(x_test, y_test['survived'])\n",
    "\n",
    "# add .values to end of x and y variables if this stops running"
   ]
  },
  {
   "cell_type": "code",
   "execution_count": 27,
   "metadata": {
    "collapsed": false
   },
   "outputs": [
    {
     "name": "stdout",
     "output_type": "stream",
     "text": [
      "Index([u'survived', u'sex', u'age', u'sibsp', u'parch', u'pclass', u'fare',\n",
      "       u'C', u'Q', u'S', u'Col', u'Dr', u'Master', u'Miss', u'Mr', u'Mrs',\n",
      "       u'Rev'],\n",
      "      dtype='object')\n"
     ]
    }
   ],
   "source": [
    "print titanic_full_new.columns"
   ]
  },
  {
   "cell_type": "code",
   "execution_count": 28,
   "metadata": {
    "collapsed": false
   },
   "outputs": [
    {
     "name": "stdout",
     "output_type": "stream",
     "text": [
      "Optimization terminated successfully.    (Exit mode 0)\n",
      "            Current function value: 0.435295003709\n",
      "            Iterations: 112\n",
      "            Function evaluations: 118\n",
      "            Gradient evaluations: 112\n",
      "[  1.20279093e-02   3.52588481e-04   4.90053717e-06   3.17356763e-02\n",
      "   5.86803187e-15   3.02730470e-01   9.99999912e-01   9.99999976e-01\n",
      "   9.99999951e-01   9.99999476e-01   9.99999429e-01   9.99998998e-01\n",
      "   9.99999678e-01   9.99999651e-01   9.99999516e-01   9.99996344e-01]\n"
     ]
    }
   ],
   "source": [
    "# Logistic regression using statsmodels\n",
    "\n",
    "import statsmodels.api as sm\n",
    "import numpy as np\n",
    "\n",
    "a = titanic_full_new['survived']\n",
    "b = titanic_full_new.drop('survived', axis=1).astype(int)\n",
    "\n",
    "a1 = np.asarray(a)\n",
    "b1 = np.asarray(b)\n",
    "\n",
    "logit = sm.Logit(a1, b1)\n",
    "\n",
    "print logit.fit_regularized().pvalues"
   ]
  },
  {
   "cell_type": "code",
   "execution_count": 29,
   "metadata": {
    "collapsed": false
   },
   "outputs": [
    {
     "name": "stdout",
     "output_type": "stream",
     "text": [
      "[ 1.  0.  1.  1.  0.  0.  1.  1.  0.  0.  1.  1.  0.  0.  0.  1.  1.  1.\n",
      "  0.  0.  0.  0.  1.  1.  1.  1.  1.  0.  0.  0.  1.  0.  0.  0.  0.  0.\n",
      "  1.  0.  0.  0.  0.  0.  0.  0.  0.  0.  0.  0.  0.  1.  1.  0.  1.  1.\n",
      "  0.  0.  0.  1.  1.  0.  0.  1.  0.  1.  0.  1.  0.  0.  0.  0.  0.  0.\n",
      "  1.  0.  0.  0.  1.  0.  1.  1.  0.  0.  0.  0.  0.  0.  0.  0.  0.  1.\n",
      "  1.  1.  1.  1.  0.  0.  1.  0.  0.  1.  0.  1.  0.  0.  0.  0.  0.  0.\n",
      "  0.  0.  0.  0.  1.  0.  0.  1.  0.  0.  1.  0.  0.  0.  0.  1.  0.  0.\n",
      "  0.  1.  1.  0.  1.  1.  0.  0.  1.  0.  0.  0.  0.  1.  0.  0.  0.  1.\n",
      "  0.  0.  0.  0.  0.  1.  1.  1.  0.  0.  0.  1.  0.  1.  0.  0.  0.  0.\n",
      "  0.  1.  1.  0.  1.  0.  1.  0.  1.  0.  0.  0.  0.  0.  1.  1.  1.  1.\n",
      "  1.  0.  1.  0.  0.  0.  0.  0.  1.  0.  0.  0.  1.  1.  0.  1.  1.  0.\n",
      "  0.  1.  0.  0.  0.  1.  0.  0.  0.  0.  0.  0.  0.  0.  0.  0.  1.  1.\n",
      "  0.  0.  1.  1.  0.  0.  1.  1.  0.  1.  0.  1.  0.  0.  0.  1.  0.  0.\n",
      "  1.  0.  0.  0.  0.  1.  0.  0.  1.  0.  0.  0.  0.  1.  0.  0.  1.  0.\n",
      "  0.  0.  0.  1.  1.  0.  0.  0.  0.  1.  0.  0.  1.  1.  1.  1.  1.  0.\n",
      "  0.  1.  0.  0.  0.  0.  0.  1.  1.  0.  0.  0.  0.  1.  1.  0.  0.  0.\n",
      "  1.  0.  1.  1.  0.  1.  1.  0.  0.  0.  0.  0.  1.  0.  0.  0.  1.  1.\n",
      "  1.  1.  0.  1.  0.  1.  0.  0.  0.  0.  0.  0.  0.  1.  0.  0.  0.  0.\n",
      "  0.  1.  1.  0.  0.  0.  1.  0.  1.  1.  1.  1.  0.  1.  1.  0.  1.  0.\n",
      "  0.  1.  1.  0.  0.  0.  0.  1.  1.  0.  0.  0.  1.  0.  1.  1.  0.  0.\n",
      "  0.  0.  1.  1.  0.  1.  1.  1.  0.  0.  1.  1.  1.  1.  0.  0.  0.  0.\n",
      "  0.  0.  0.  0.  0.  1.  0.  0.  1.  0.  0.  0.  0.  0.  0.]\n"
     ]
    }
   ],
   "source": [
    "# Predict class labels for the test set\n",
    "LRpredicted = LRmodel.predict(x_test)\n",
    "print LRpredicted"
   ]
  },
  {
   "cell_type": "code",
   "execution_count": 30,
   "metadata": {
    "collapsed": false
   },
   "outputs": [
    {
     "name": "stdout",
     "output_type": "stream",
     "text": [
      "[[ 0.42417001  0.57582999]\n",
      " [ 0.95067144  0.04932856]\n",
      " [ 0.41530942  0.58469058]\n",
      " [ 0.22434615  0.77565385]\n",
      " [ 0.96012421  0.03987579]\n",
      " [ 0.89190079  0.10809921]\n",
      " [ 0.18817669  0.81182331]\n",
      " [ 0.04331021  0.95668979]\n",
      " [ 0.94454238  0.05545762]\n",
      " [ 0.94469654  0.05530346]\n",
      " [ 0.41340764  0.58659236]\n",
      " [ 0.43943282  0.56056718]\n",
      " [ 0.93239839  0.06760161]\n",
      " [ 0.91259399  0.08740601]\n",
      " [ 0.92510152  0.07489848]\n",
      " [ 0.41156951  0.58843049]\n",
      " [ 0.27162274  0.72837726]\n",
      " [ 0.05826554  0.94173446]\n",
      " [ 0.91486151  0.08513849]\n",
      " [ 0.9237379   0.0762621 ]\n",
      " [ 0.92503206  0.07496794]\n",
      " [ 0.76697842  0.23302158]\n",
      " [ 0.098441    0.901559  ]\n",
      " [ 0.35077251  0.64922749]\n",
      " [ 0.23206841  0.76793159]\n",
      " [ 0.07882758  0.92117242]\n",
      " [ 0.37722184  0.62277816]\n",
      " [ 0.90063451  0.09936549]\n",
      " [ 0.82947149  0.17052851]\n",
      " [ 0.73806118  0.26193882]\n",
      " [ 0.40897112  0.59102888]\n",
      " [ 0.93242709  0.06757291]\n",
      " [ 0.94222734  0.05777266]\n",
      " [ 0.92501627  0.07498373]\n",
      " [ 0.9103848   0.0896152 ]\n",
      " [ 0.53189327  0.46810673]\n",
      " [ 0.12552701  0.87447299]\n",
      " [ 0.95455078  0.04544922]\n",
      " [ 0.91913894  0.08086106]\n",
      " [ 0.93920397  0.06079603]\n",
      " [ 0.90367178  0.09632822]\n",
      " [ 0.93925509  0.06074491]\n",
      " [ 0.93560199  0.06439801]\n",
      " [ 0.90638159  0.09361841]\n",
      " [ 0.92507311  0.07492689]\n",
      " [ 0.62850603  0.37149397]\n",
      " [ 0.59649413  0.40350587]\n",
      " [ 0.92107821  0.07892179]\n",
      " [ 0.82824393  0.17175607]\n",
      " [ 0.38958429  0.61041571]\n",
      " [ 0.36231305  0.63768695]\n",
      " [ 0.86848161  0.13151839]\n",
      " [ 0.06208365  0.93791635]\n",
      " [ 0.4140926   0.5859074 ]\n",
      " [ 0.72932732  0.27067268]\n",
      " [ 0.85760003  0.14239997]\n",
      " [ 0.91970223  0.08029777]\n",
      " [ 0.1438732   0.8561268 ]\n",
      " [ 0.08258489  0.91741511]\n",
      " [ 0.91970223  0.08029777]\n",
      " [ 0.77965602  0.22034398]\n",
      " [ 0.08708907  0.91291093]\n",
      " [ 0.89190227  0.10809773]\n",
      " [ 0.05906199  0.94093801]\n",
      " [ 0.79953035  0.20046965]\n",
      " [ 0.2237573   0.7762427 ]\n",
      " [ 0.92507101  0.07492899]\n",
      " [ 0.74534416  0.25465584]\n",
      " [ 0.76710513  0.23289487]\n",
      " [ 0.96842654  0.03157346]\n",
      " [ 0.95210023  0.04789977]\n",
      " [ 0.89190227  0.10809773]\n",
      " [ 0.05126911  0.94873089]\n",
      " [ 0.96442335  0.03557665]\n",
      " [ 0.83595819  0.16404181]\n",
      " [ 0.98489626  0.01510374]\n",
      " [ 0.43138685  0.56861315]\n",
      " [ 0.81596667  0.18403333]\n",
      " [ 0.05063862  0.94936138]\n",
      " [ 0.20504053  0.79495947]\n",
      " [ 0.86742275  0.13257725]\n",
      " [ 0.83495492  0.16504508]\n",
      " [ 0.6952466   0.3047534 ]\n",
      " [ 0.89190079  0.10809921]\n",
      " [ 0.92899718  0.07100282]\n",
      " [ 0.9495641   0.0504359 ]\n",
      " [ 0.9251583   0.0748417 ]\n",
      " [ 0.8100554   0.1899446 ]\n",
      " [ 0.84505829  0.15494171]\n",
      " [ 0.4858189   0.5141811 ]\n",
      " [ 0.12529891  0.87470109]\n",
      " [ 0.25972662  0.74027338]\n",
      " [ 0.30924921  0.69075079]\n",
      " [ 0.1508239   0.8491761 ]\n",
      " [ 0.99852416  0.00147584]\n",
      " [ 0.925152    0.074848  ]\n",
      " [ 0.35576173  0.64423827]\n",
      " [ 0.92503206  0.07496794]\n",
      " [ 0.68319444  0.31680556]\n",
      " [ 0.06715692  0.93284308]\n",
      " [ 0.57470975  0.42529025]\n",
      " [ 0.34041628  0.65958372]\n",
      " [ 0.7769196   0.2230804 ]\n",
      " [ 0.69411195  0.30588805]\n",
      " [ 0.91123185  0.08876815]\n",
      " [ 0.92909659  0.07090341]\n",
      " [ 0.88458319  0.11541681]\n",
      " [ 0.91040584  0.08959416]\n",
      " [ 0.91863653  0.08136347]\n",
      " [ 0.65906601  0.34093399]\n",
      " [ 0.92503206  0.07496794]\n",
      " [ 0.91658003  0.08341997]\n",
      " [ 0.3848905   0.6151095 ]\n",
      " [ 0.89190079  0.10809921]\n",
      " [ 0.55436067  0.44563933]\n",
      " [ 0.06958538  0.93041462]\n",
      " [ 0.83720353  0.16279647]\n",
      " [ 0.89190079  0.10809921]\n",
      " [ 0.17123687  0.82876313]\n",
      " [ 0.7848869   0.2151131 ]\n",
      " [ 0.87471037  0.12528963]\n",
      " [ 0.81721163  0.18278837]\n",
      " [ 0.92173435  0.07826565]\n",
      " [ 0.16344288  0.83655712]\n",
      " [ 0.7351029   0.2648971 ]\n",
      " [ 0.90786285  0.09213715]\n",
      " [ 0.64644626  0.35355374]\n",
      " [ 0.06955295  0.93044705]\n",
      " [ 0.41159527  0.58840473]\n",
      " [ 0.82011056  0.17988944]\n",
      " [ 0.08349661  0.91650339]\n",
      " [ 0.06556093  0.93443907]\n",
      " [ 0.97636854  0.02363146]\n",
      " [ 0.54778656  0.45221344]\n",
      " [ 0.42301567  0.57698433]\n",
      " [ 0.64310809  0.35689191]\n",
      " [ 0.90817382  0.09182618]\n",
      " [ 0.92507101  0.07492899]\n",
      " [ 0.93380639  0.06619361]\n",
      " [ 0.42522494  0.57477506]\n",
      " [ 0.64227135  0.35772865]\n",
      " [ 0.93737872  0.06262128]\n",
      " [ 0.58736863  0.41263137]\n",
      " [ 0.33492293  0.66507707]\n",
      " [ 0.89270984  0.10729016]\n",
      " [ 0.5463215   0.4536785 ]\n",
      " [ 0.81360202  0.18639798]\n",
      " [ 0.95303368  0.04696632]\n",
      " [ 0.90088424  0.09911576]\n",
      " [ 0.3132246   0.6867754 ]\n",
      " [ 0.47834401  0.52165599]\n",
      " [ 0.04807243  0.95192757]\n",
      " [ 0.96748984  0.03251016]\n",
      " [ 0.78126771  0.21873229]\n",
      " [ 0.83595819  0.16404181]\n",
      " [ 0.39642103  0.60357897]\n",
      " [ 0.81344093  0.18655907]\n",
      " [ 0.0834077   0.9165923 ]\n",
      " [ 0.89036278  0.10963722]\n",
      " [ 0.91970223  0.08029777]\n",
      " [ 0.93065171  0.06934829]\n",
      " [ 0.7844015   0.2155985 ]\n",
      " [ 0.96489705  0.03510295]\n",
      " [ 0.01701168  0.98298832]\n",
      " [ 0.32534634  0.67465366]\n",
      " [ 0.91282623  0.08717377]\n",
      " [ 0.25653464  0.74346536]\n",
      " [ 0.84321092  0.15678908]\n",
      " [ 0.40474819  0.59525181]\n",
      " [ 0.90458604  0.09541396]\n",
      " [ 0.27415289  0.72584711]\n",
      " [ 0.79138084  0.20861916]\n",
      " [ 0.85408425  0.14591575]\n",
      " [ 0.9040597   0.0959403 ]\n",
      " [ 0.6245061   0.3754939 ]\n",
      " [ 0.97454056  0.02545944]\n",
      " [ 0.28834099  0.71165901]\n",
      " [ 0.47899556  0.52100444]\n",
      " [ 0.1319963   0.8680037 ]\n",
      " [ 0.48569626  0.51430374]\n",
      " [ 0.10737126  0.89262874]\n",
      " [ 0.91266784  0.08733216]\n",
      " [ 0.410405    0.589595  ]\n",
      " [ 0.6459881   0.3540119 ]\n",
      " [ 0.8921786   0.1078214 ]\n",
      " [ 0.9229198   0.0770802 ]\n",
      " [ 0.7565616   0.2434384 ]\n",
      " [ 0.8891887   0.1108113 ]\n",
      " [ 0.0964076   0.9035924 ]\n",
      " [ 0.89190227  0.10809773]\n",
      " [ 0.77820235  0.22179765]\n",
      " [ 0.53110578  0.46889422]\n",
      " [ 0.41156951  0.58843049]\n",
      " [ 0.36321838  0.63678162]\n",
      " [ 0.78753272  0.21246728]\n",
      " [ 0.15877057  0.84122943]\n",
      " [ 0.23676314  0.76323686]\n",
      " [ 0.83306106  0.16693894]\n",
      " [ 0.9502346   0.0497654 ]\n",
      " [ 0.26652594  0.73347406]\n",
      " [ 0.61587414  0.38412586]\n",
      " [ 0.50203984  0.49796016]\n",
      " [ 0.96752395  0.03247605]\n",
      " [ 0.41149962  0.58850038]\n",
      " [ 0.92466485  0.07533515]\n",
      " [ 0.84481156  0.15518844]\n",
      " [ 0.88355469  0.11644531]\n",
      " [ 0.91693456  0.08306544]\n",
      " [ 0.6074593   0.3925407 ]\n",
      " [ 0.57470975  0.42529025]\n",
      " [ 0.90574625  0.09425375]\n",
      " [ 0.95065008  0.04934992]\n",
      " [ 0.91970223  0.08029777]\n",
      " [ 0.93399663  0.06600337]\n",
      " [ 0.42417001  0.57582999]\n",
      " [ 0.28735534  0.71264466]\n",
      " [ 0.78955013  0.21044987]\n",
      " [ 0.91331643  0.08668357]\n",
      " [ 0.02895593  0.97104407]\n",
      " [ 0.17887163  0.82112837]\n",
      " [ 0.91183483  0.08816517]\n",
      " [ 0.91970896  0.08029104]\n",
      " [ 0.40473075  0.59526925]\n",
      " [ 0.45505024  0.54494976]\n",
      " [ 0.91484493  0.08515507]\n",
      " [ 0.37566859  0.62433141]\n",
      " [ 0.93242709  0.06757291]\n",
      " [ 0.05781503  0.94218497]\n",
      " [ 0.89645136  0.10354864]\n",
      " [ 0.92507101  0.07492899]\n",
      " [ 0.91970223  0.08029777]\n",
      " [ 0.27377281  0.72622719]\n",
      " [ 0.91930128  0.08069872]\n",
      " [ 0.61765613  0.38234387]\n",
      " [ 0.07251952  0.92748048]\n",
      " [ 0.89783553  0.10216447]\n",
      " [ 0.94310682  0.05689318]\n",
      " [ 0.88813701  0.11186299]\n",
      " [ 0.74549591  0.25450409]\n",
      " [ 0.08417447  0.91582553]\n",
      " [ 0.69532379  0.30467621]\n",
      " [ 0.63891579  0.36108421]\n",
      " [ 0.27320212  0.72679788]\n",
      " [ 0.83873913  0.16126087]\n",
      " [ 0.73471254  0.26528746]\n",
      " [ 0.72953625  0.27046375]\n",
      " [ 0.8943265   0.1056735 ]\n",
      " [ 0.25194895  0.74805105]\n",
      " [ 0.93419384  0.06580616]\n",
      " [ 0.94518471  0.05481529]\n",
      " [ 0.24956544  0.75043456]\n",
      " [ 0.70764186  0.29235814]\n",
      " [ 0.91517708  0.08482292]\n",
      " [ 0.79105973  0.20894027]\n",
      " [ 0.89374509  0.10625491]\n",
      " [ 0.34607142  0.65392858]\n",
      " [ 0.44285757  0.55714243]\n",
      " [ 0.97636854  0.02363146]\n",
      " [ 0.79615176  0.20384824]\n",
      " [ 0.91707321  0.08292679]\n",
      " [ 0.91698888  0.08301112]\n",
      " [ 0.45046616  0.54953384]\n",
      " [ 0.54769308  0.45230692]\n",
      " [ 0.96684991  0.03315009]\n",
      " [ 0.17522403  0.82477597]\n",
      " [ 0.10773852  0.89226148]\n",
      " [ 0.4114555   0.5885445 ]\n",
      " [ 0.09187429  0.90812571]\n",
      " [ 0.10688878  0.89311122]\n",
      " [ 0.9050362   0.0949638 ]\n",
      " [ 0.91821344  0.08178656]\n",
      " [ 0.47726806  0.52273194]\n",
      " [ 0.91042938  0.08957062]\n",
      " [ 0.96701468  0.03298532]\n",
      " [ 0.68155975  0.31844025]\n",
      " [ 0.74779206  0.25220794]\n",
      " [ 0.52004755  0.47995245]\n",
      " [ 0.41833486  0.58166514]\n",
      " [ 0.23733762  0.76266238]\n",
      " [ 0.65876648  0.34123352]\n",
      " [ 0.76095568  0.23904432]\n",
      " [ 0.92523395  0.07476605]\n",
      " [ 0.94027686  0.05972314]\n",
      " [ 0.4409944   0.5590056 ]\n",
      " [ 0.10806196  0.89193804]\n",
      " [ 0.87043501  0.12956499]\n",
      " [ 0.89715316  0.10284684]\n",
      " [ 0.91697734  0.08302266]\n",
      " [ 0.35401889  0.64598111]\n",
      " [ 0.89116749  0.10883251]\n",
      " [ 0.49392965  0.50607035]\n",
      " [ 0.41156951  0.58843049]\n",
      " [ 0.86749834  0.13250166]\n",
      " [ 0.26440564  0.73559436]\n",
      " [ 0.08577754  0.91422246]\n",
      " [ 0.92129152  0.07870848]\n",
      " [ 0.94074492  0.05925508]\n",
      " [ 0.71966961  0.28033039]\n",
      " [ 0.80745794  0.19254206]\n",
      " [ 0.90792475  0.09207525]\n",
      " [ 0.05129938  0.94870062]\n",
      " [ 0.66100976  0.33899024]\n",
      " [ 0.9251583   0.0748417 ]\n",
      " [ 0.93294075  0.06705925]\n",
      " [ 0.05743142  0.94256858]\n",
      " [ 0.08757195  0.91242805]\n",
      " [ 0.1887845   0.8112155 ]\n",
      " [ 0.28986695  0.71013305]\n",
      " [ 0.85517142  0.14482858]\n",
      " [ 0.36345017  0.63654983]\n",
      " [ 0.94664832  0.05335168]\n",
      " [ 0.01514335  0.98485665]\n",
      " [ 0.92698318  0.07301682]\n",
      " [ 0.92129152  0.07870848]\n",
      " [ 0.95984843  0.04015157]\n",
      " [ 0.92112124  0.07887876]\n",
      " [ 0.87622962  0.12377038]\n",
      " [ 0.61613085  0.38386915]\n",
      " [ 0.79773388  0.20226612]\n",
      " [ 0.41156951  0.58843049]\n",
      " [ 0.9341761   0.0658239 ]\n",
      " [ 0.74549591  0.25450409]\n",
      " [ 0.81174923  0.18825077]\n",
      " [ 0.9376897   0.0623103 ]\n",
      " [ 0.79865289  0.20134711]\n",
      " [ 0.20097085  0.79902915]\n",
      " [ 0.22188434  0.77811566]\n",
      " [ 0.79513811  0.20486189]\n",
      " [ 0.90810891  0.09189109]\n",
      " [ 0.52004755  0.47995245]\n",
      " [ 0.41154374  0.58845626]\n",
      " [ 0.67023846  0.32976154]\n",
      " [ 0.05624833  0.94375167]\n",
      " [ 0.3848905   0.6151095 ]\n",
      " [ 0.43666071  0.56333929]\n",
      " [ 0.38309202  0.61690798]\n",
      " [ 0.8348151   0.1651849 ]\n",
      " [ 0.05642097  0.94357903]\n",
      " [ 0.22300726  0.77699274]\n",
      " [ 0.92323109  0.07676891]\n",
      " [ 0.48843777  0.51156223]\n",
      " [ 0.92658554  0.07341446]\n",
      " [ 0.8756651   0.1243349 ]\n",
      " [ 0.18175763  0.81824237]\n",
      " [ 0.10484151  0.89515849]\n",
      " [ 0.92038631  0.07961369]\n",
      " [ 0.92899566  0.07100434]\n",
      " [ 0.89831914  0.10168086]\n",
      " [ 0.77135023  0.22864977]\n",
      " [ 0.20959878  0.79040122]\n",
      " [ 0.17522403  0.82477597]\n",
      " [ 0.92487715  0.07512285]\n",
      " [ 0.63504007  0.36495993]\n",
      " [ 0.83595819  0.16404181]\n",
      " [ 0.1386853   0.8613147 ]\n",
      " [ 0.94935449  0.05064551]\n",
      " [ 0.09072534  0.90927466]\n",
      " [ 0.40890162  0.59109838]\n",
      " [ 0.92503206  0.07496794]\n",
      " [ 0.86847987  0.13152013]\n",
      " [ 0.78722784  0.21277216]\n",
      " [ 0.91649118  0.08350882]\n",
      " [ 0.10050178  0.89949822]\n",
      " [ 0.1682005   0.8317995 ]\n",
      " [ 0.93767374  0.06232626]\n",
      " [ 0.06952761  0.93047239]\n",
      " [ 0.41156951  0.58843049]\n",
      " [ 0.06755718  0.93244282]\n",
      " [ 0.84096244  0.15903756]\n",
      " [ 0.91907235  0.08092765]\n",
      " [ 0.08296673  0.91703327]\n",
      " [ 0.07066396  0.92933604]\n",
      " [ 0.06195788  0.93804212]\n",
      " [ 0.03782081  0.96217919]\n",
      " [ 0.78481311  0.21518689]\n",
      " [ 0.92507101  0.07492899]\n",
      " [ 0.73840237  0.26159763]\n",
      " [ 0.92503206  0.07496794]\n",
      " [ 0.88358236  0.11641764]\n",
      " [ 0.79201168  0.20798832]\n",
      " [ 0.9209888   0.0790112 ]\n",
      " [ 0.93878565  0.06121435]\n",
      " [ 0.91545654  0.08454346]\n",
      " [ 0.07316369  0.92683631]\n",
      " [ 0.56765158  0.43234842]\n",
      " [ 0.8002643   0.1997357 ]\n",
      " [ 0.2580801   0.7419199 ]\n",
      " [ 0.90329347  0.09670653]\n",
      " [ 0.92503206  0.07496794]\n",
      " [ 0.69108522  0.30891478]\n",
      " [ 0.95903034  0.04096966]\n",
      " [ 0.93338022  0.06661978]\n",
      " [ 0.89190079  0.10809921]]\n"
     ]
    }
   ],
   "source": [
    "# Generate class probabilities\n",
    "LRprobs = LRmodel.predict_proba(x_test)\n",
    "print LRprobs"
   ]
  },
  {
   "cell_type": "code",
   "execution_count": 31,
   "metadata": {
    "collapsed": false
   },
   "outputs": [
    {
     "name": "stdout",
     "output_type": "stream",
     "text": [
      "0.770992366412\n",
      "0.828677248677\n"
     ]
    }
   ],
   "source": [
    "# Generate evaluation metrics\n",
    "print metrics.accuracy_score(y_test, LRpredicted)\n",
    "print metrics.roc_auc_score(y_test, LRprobs[:, 1])"
   ]
  },
  {
   "cell_type": "code",
   "execution_count": 32,
   "metadata": {
    "collapsed": false
   },
   "outputs": [
    {
     "name": "stdout",
     "output_type": "stream",
     "text": [
      "[[194  31]\n",
      " [ 59 109]]\n",
      "             precision    recall  f1-score   support\n",
      "\n",
      "        0.0       0.77      0.86      0.81       225\n",
      "        1.0       0.78      0.65      0.71       168\n",
      "\n",
      "avg / total       0.77      0.77      0.77       393\n",
      "\n"
     ]
    }
   ],
   "source": [
    "# Confusion matrix\n",
    "print metrics.confusion_matrix(y_test, LRpredicted)\n",
    "print metrics.classification_report(y_test, LRpredicted)"
   ]
  },
  {
   "cell_type": "code",
   "execution_count": 33,
   "metadata": {
    "collapsed": false,
    "scrolled": true
   },
   "outputs": [
    {
     "name": "stdout",
     "output_type": "stream",
     "text": [
      "[ 0.84946237  0.75268817  0.79347826  0.85869565  0.81318681  0.84615385\n",
      "  0.86813187  0.79120879  0.83516484  0.85714286]\n",
      "0.826531346167\n"
     ]
    }
   ],
   "source": [
    "# Evaluate the model using 10-fold cross-validation\n",
    "scores = cross_val_score(LogisticRegression(), x, y, scoring='accuracy', cv=10)\n",
    "print scores\n",
    "print scores.mean()"
   ]
  },
  {
   "cell_type": "markdown",
   "metadata": {
    "collapsed": true
   },
   "source": [
    "<u><h4 style=\"color:#6699FF\">Random Forests</h4></u>"
   ]
  },
  {
   "cell_type": "code",
   "execution_count": 34,
   "metadata": {
    "collapsed": false
   },
   "outputs": [
    {
     "name": "stdout",
     "output_type": "stream",
     "text": [
      "pclass\n",
      "<type 'list'>\n",
      "False\n",
      "sex\n",
      "<type 'list'>\n",
      "False\n",
      "age\n",
      "<type 'list'>\n",
      "False\n",
      "sibsp\n",
      "<type 'list'>\n",
      "False\n",
      "parch\n",
      "<type 'list'>\n",
      "False\n",
      "fare\n",
      "<type 'list'>\n",
      "False\n",
      "C\n",
      "<type 'list'>\n",
      "False\n",
      "Q\n",
      "<type 'list'>\n",
      "False\n",
      "S\n",
      "<type 'list'>\n",
      "False\n",
      "Col\n",
      "<type 'list'>\n",
      "False\n",
      "Dr\n",
      "<type 'list'>\n",
      "False\n",
      "Master\n",
      "<type 'list'>\n",
      "False\n",
      "Miss\n",
      "<type 'list'>\n",
      "False\n",
      "Mr\n",
      "<type 'list'>\n",
      "False\n",
      "Mrs\n",
      "<type 'list'>\n",
      "False\n",
      "Rev\n",
      "<type 'list'>\n",
      "False\n"
     ]
    }
   ],
   "source": [
    "from sklearn import cross_validation\n",
    "from sklearn.ensemble import RandomForestClassifier\n",
    "\n",
    "predictors = [\"pclass\", \"sex\", \"age\", \"sibsp\", \"parch\", \"fare\", \"C\", \"Q\", \"S\", \"Col\", \"Dr\", \"Master\", \"Miss\", \"Mr\", \"Mrs\", \"Rev\"]\n",
    "\n",
    "# Confirm that there are no missing values\n",
    "# is this necessary??\n",
    "for n in predictors:\n",
    "    print n\n",
    "    lista = list(titanic_full_new[n])\n",
    "    print type(lista)\n",
    "    print np.isnan(lista).any()\n",
    "\n",
    "#print titanic_full_new.isnull().any()\n",
    "#print titanic_full_new.head(5)"
   ]
  },
  {
   "cell_type": "code",
   "execution_count": 35,
   "metadata": {
    "collapsed": false
   },
   "outputs": [
    {
     "name": "stdout",
     "output_type": "stream",
     "text": [
      "survived    False\n",
      "sex         False\n",
      "age         False\n",
      "sibsp       False\n",
      "parch       False\n",
      "pclass      False\n",
      "fare        False\n",
      "C           False\n",
      "Q           False\n",
      "S           False\n",
      "Col         False\n",
      "Dr          False\n",
      "Master      False\n",
      "Miss        False\n",
      "Mr          False\n",
      "Mrs         False\n",
      "Rev         False\n",
      "dtype: bool\n"
     ]
    }
   ],
   "source": [
    "print titanic_full_new.isnull().any()"
   ]
  },
  {
   "cell_type": "code",
   "execution_count": 36,
   "metadata": {
    "collapsed": false
   },
   "outputs": [
    {
     "name": "stdout",
     "output_type": "stream",
     "text": [
      "0.541737902978\n"
     ]
    }
   ],
   "source": [
    "# basic random forests algorithim\n",
    "# source: https://www.dataquest.io/mission/75/improving-your-submission/\n",
    "\n",
    "from sklearn import cross_validation\n",
    "from sklearn.cross_validation import cross_val_score\n",
    "from sklearn.ensemble import RandomForestClassifier\n",
    "#put fare back in\n",
    "\n",
    "predictors = [\"pclass\", \"sex\", \"age\", \"sibsp\", \"parch\", \"fare\", \"C\", \"Q\", \"S\", \"Col\", \"Dr\", \"Master\", \"Miss\", \"Mr\", \"Mrs\", \"Rev\"]\n",
    "\n",
    "# n_estimators indicates 100 trees initially\n",
    "\n",
    "alg = RandomForestClassifier(random_state=1, n_estimators=100, min_samples_split=2, min_samples_leaf=1)\n",
    "\n",
    "scores = cross_validation.cross_val_score(alg, titanic_full_new[predictors], titanic_full_new[\"survived\"], cv=3)\n",
    "\n",
    "#nope below\n",
    "#scores2 = cross_validation.cross_val_score(alg, titanic_train, titanic_test, cv=3)\n",
    "\n",
    "print(scores.mean())"
   ]
  },
  {
   "cell_type": "code",
   "execution_count": 37,
   "metadata": {
    "collapsed": false
   },
   "outputs": [
    {
     "name": "stdout",
     "output_type": "stream",
     "text": [
      "0.556241177657\n"
     ]
    }
   ],
   "source": [
    "# initializing our rand forest alg function to improve parameters\n",
    "alg = RandomForestClassifier(random_state=1, n_estimators=150, min_samples_split=4, min_samples_leaf=2)\n",
    "\n",
    "scores = cross_validation.cross_val_score(alg, titanic_full_new[predictors], titanic_full_new[\"survived\"], cv=3)\n",
    "\n",
    "print(scores.mean())\n",
    "\n",
    "#from sklearn.metrics import accuracy_score\n",
    "#acc = accuracy_score(pred, y_test)\n",
    "#print acc"
   ]
  },
  {
   "cell_type": "code",
   "execution_count": 38,
   "metadata": {
    "collapsed": false
   },
   "outputs": [
    {
     "name": "stdout",
     "output_type": "stream",
     "text": [
      "[ 0.          0.19796449  0.19577408  0.03588761  0.03299574  0.10878331\n",
      "  0.23059473  0.01333205  0.00678898  0.00629277  0.00144965  0.00117747\n",
      "  0.01402154  0.02192201  0.08722464  0.04013442  0.00565652]\n",
      "Index([u'Intercept', u'sex[T.1]', u'age', u'sibsp', u'parch', u'pclass',\n",
      "       u'fare', u'C', u'Q', u'S', u'Col', u'Dr', u'Master', u'Miss', u'Mr',\n",
      "       u'Mrs', u'Rev'],\n",
      "      dtype='object')\n"
     ]
    },
    {
     "data": {
      "text/plain": [
       "0.75572519083969469"
      ]
     },
     "execution_count": 38,
     "metadata": {},
     "output_type": "execute_result"
    }
   ],
   "source": [
    "# Feature Importance\n",
    "from sklearn import datasets\n",
    "from sklearn import metrics\n",
    "from sklearn.ensemble import ExtraTreesClassifier\n",
    "\n",
    "from patsy import dmatrices\n",
    "import numpy as np\n",
    "\n",
    "y, x = dmatrices('survived ~ sex + age + sibsp + parch + pclass + fare + C + Q + S + Col + Dr + Master + Miss + Mr + Mrs + Rev',\n",
    "                 titanic_train, return_type=\"dataframe\")\n",
    "\n",
    "y_test, x_test = dmatrices('survived ~ sex + age + sibsp + parch + pclass + fare + + C + Q + S + Col + Dr + Master + Miss + Mr + Mrs + Rev',\n",
    "                           titanic_test, return_type=\"dataframe\")\n",
    "\n",
    "# Flatten y into a 1-D array\n",
    "y = np.ravel(y)\n",
    "\n",
    "# Fit an Extra Trees model to the data\n",
    "ETmodel = ExtraTreesClassifier()\n",
    "ETmodel = ETmodel.fit(x, y)\n",
    "print(ETmodel.feature_importances_)\n",
    "\n",
    "\n",
    "# Table labeling feature score\n",
    "#print \"%s %d\" % (features[i], feature_importances_][i])\n",
    "#for loop to loop through length x.columns. print x[i] \n",
    "\n",
    "print x.columns\n",
    "\n",
    "ETmodel.score(x_test, y_test['survived'])"
   ]
  },
  {
   "cell_type": "code",
   "execution_count": 39,
   "metadata": {
    "collapsed": false
   },
   "outputs": [
    {
     "data": {
      "image/png": "[encoded data removed]",
      "text/plain": [
       "<matplotlib.figure.Figure at 0x7f1add379b50>"
      ]
     },
     "metadata": {},
     "output_type": "display_data"
    }
   ],
   "source": [
    "# selecting the best features\n",
    "\n",
    "import numpy as np\n",
    "from sklearn.feature_selection import SelectKBest, f_classif\n",
    "\n",
    "#implement title into this prediction!!\n",
    "predictors = [\"pclass\", \"sex\", \"age\", \"sibsp\", \"parch\", \"fare\"]\n",
    "\n",
    "# Perform feature selection\n",
    "selector = SelectKBest(f_classif, k=5)\n",
    "selector.fit(titanic_full_new[predictors], titanic_full_new[\"survived\"])\n",
    "\n",
    "# Get the raw p-values for each feature, and transform from p-values into scores\n",
    "scores = -np.log10(selector.pvalues_)\n",
    "\n",
    "# Plot the scores.  See how \"Pclass\", \"Sex\", \"Title\", and \"Fare\" are the best?\n",
    "plt.bar(range(len(predictors)), scores)\n",
    "plt.xticks(range(len(predictors)), predictors, rotation='vertical')\n",
    "plt.show()\n",
    "\n",
    "# Pick only the three best features.\n",
    "predictors = [\"pclass\", \"sex\", \"title\", \"fare\"]\n",
    "\n",
    "alg = RandomForestClassifier(random_state=1, n_estimators=150, min_samples_split=8, min_samples_leaf=4)"
   ]
  },
  {
   "cell_type": "markdown",
   "metadata": {},
   "source": [
    "<u><h4 style=\"color:#6699FF\">Support Vector Machines</h4></u>"
   ]
  },
  {
   "cell_type": "code",
   "execution_count": 40,
   "metadata": {
    "collapsed": false
   },
   "outputs": [
    {
     "name": "stdout",
     "output_type": "stream",
     "text": [
      "0.737913486005\n"
     ]
    }
   ],
   "source": [
    "y, x = dmatrices('survived ~ sex + age + sibsp + parch + pclass + fare + C + Q + S + Col + Dr + Master + Miss + Mr + Mrs + Rev',\n",
    "                 titanic_train, return_type=\"dataframe\")\n",
    "\n",
    "y_test, x_test = dmatrices('survived ~ sex + age + sibsp + parch + pclass + fare + + C + Q + S + Col + Dr + Master + Miss + Mr + Mrs + Rev',\n",
    "                           titanic_test, return_type=\"dataframe\")\n",
    "\n",
    "y = np.ravel(y)\n",
    "\n",
    "from sklearn import svm\n",
    "clf = svm.LinearSVC()\n",
    "clf.fit(x,y)\n",
    "\n",
    "clf2 = svm.SVC()\n",
    "clf2.fit(x,y)\n",
    "\n",
    "pred = clf.predict(x_test)\n",
    "\n",
    "from sklearn.metrics import accuracy_score\n",
    "acc = accuracy_score(pred, y_test)\n",
    "print acc"
   ]
  },
  {
   "cell_type": "markdown",
   "metadata": {},
   "source": [
    "<u><h4 style=\"color:#6699FF\">Naive Bayes</h4></u>"
   ]
  },
  {
   "cell_type": "code",
   "execution_count": 41,
   "metadata": {
    "collapsed": false
   },
   "outputs": [
    {
     "name": "stdout",
     "output_type": "stream",
     "text": [
      "0.455470737913\n"
     ]
    }
   ],
   "source": [
    "y, x = dmatrices('survived ~ sex + age + sibsp + parch + pclass + fare + C + Q + S + Col + Dr + Master + Miss + Mr + Mrs + Rev',\n",
    "                 titanic_train, return_type=\"dataframe\")\n",
    "\n",
    "y_test, x_test = dmatrices('survived ~ sex + age + sibsp + parch + pclass + fare + + C + Q + S + Col + Dr + Master + Miss + Mr + Mrs + Rev',\n",
    "                           titanic_test, return_type=\"dataframe\")\n",
    "\n",
    "y = np.ravel(y)\n",
    "\n",
    "import numpy as np\n",
    "import pylab as pl\n",
    "\n",
    "from sklearn.naive_bayes import GaussianNB\n",
    "\n",
    "clf = GaussianNB()\n",
    "clf.fit(x, y)\n",
    "\n",
    "pred = clf.predict(x_test)\n",
    "\n",
    "from sklearn.metrics import accuracy_score\n",
    "nb_acc = accuracy_score(pred, y_test)\n",
    "print nb_acc\n"
   ]
  },
  {
   "cell_type": "markdown",
   "metadata": {
    "collapsed": true
   },
   "source": [
    "<h2 style=\"color:#6699FF\"> 6) Validation of Models</h2>This includes showing the following metrics about each model:\n",
    "* **Logistic Regression**\n",
    "    * Accuracy score\n",
    "    * Statistical significance (p-value calculation)\n",
    "    * Confusion Matrix\n",
    "    * Cross validation 10 fold validation\n",
    "* **Random Forests**\n",
    "    * Best feature selection\n",
    "    * Cross validation score\n",
    "    * Feature importance scores -- indicating how influential each variable was in predicting outcome\n",
    "        * includes measure of precision (measure of result relevance) and recall (sensitivity, how many results are relevant).\n",
    "* **Support Vector Machines**\n",
    "    * Accuracy score\n",
    "* **Naive Bayes**\n",
    "    * Accuracy score"
   ]
  },
  {
   "cell_type": "markdown",
   "metadata": {},
   "source": [
    "<u><h4 style=\"color:#6699FF\">Logistic Regression</h4></u>"
   ]
  },
  {
   "cell_type": "code",
   "execution_count": 42,
   "metadata": {
    "collapsed": false
   },
   "outputs": [
    {
     "data": {
      "text/plain": [
       "0.77099236641221369"
      ]
     },
     "execution_count": 42,
     "metadata": {},
     "output_type": "execute_result"
    }
   ],
   "source": [
    "# Accuracy Score\n",
    "\n",
    "from patsy import dmatrices\n",
    "\n",
    "y, x = dmatrices('survived ~ sex + age + sibsp + parch + pclass + fare + C + Q + S + Col + Dr + Master + Miss + Mr + Mrs + Rev',\n",
    "                 titanic_train, return_type=\"dataframe\")\n",
    "\n",
    "y_test, x_test = dmatrices('survived ~ sex + age + sibsp + parch + pclass + fare + + C + Q + S + Col + Dr + Master + Miss + Mr + Mrs + Rev',\n",
    "                           titanic_test, return_type=\"dataframe\")\n",
    "\n",
    "import numpy as np\n",
    "\n",
    "# Flatten y into a 1-D array\n",
    "y = np.ravel(y)\n",
    "\n",
    "# Initiate a logistic regression model, and fit with X and y\n",
    "LRmodel = LogisticRegression()\n",
    "LRmodel = LRmodel.fit(x, y)\n",
    "\n",
    "# Check the accuracy on the training set\n",
    "LRmodel.score(x_test, y_test['survived'])"
   ]
  },
  {
   "cell_type": "code",
   "execution_count": 43,
   "metadata": {
    "collapsed": false
   },
   "outputs": [
    {
     "name": "stdout",
     "output_type": "stream",
     "text": [
      "Optimization terminated successfully.    (Exit mode 0)\n",
      "            Current function value: 0.435295003709\n",
      "            Iterations: 112\n",
      "            Function evaluations: 118\n",
      "            Gradient evaluations: 112\n",
      "[  1.20279093e-02   3.52588481e-04   4.90053717e-06   3.17356763e-02\n",
      "   5.86803187e-15   3.02730470e-01   9.99999912e-01   9.99999976e-01\n",
      "   9.99999951e-01   9.99999476e-01   9.99999429e-01   9.99998998e-01\n",
      "   9.99999678e-01   9.99999651e-01   9.99999516e-01   9.99996344e-01]\n"
     ]
    }
   ],
   "source": [
    "# Logistic regression p-value determination using statsmodels\n",
    "\n",
    "import statsmodels.api as sm\n",
    "import numpy as np\n",
    "\n",
    "a = titanic_full_new['survived']\n",
    "b = titanic_full_new.drop('survived', axis=1).astype(int)\n",
    "\n",
    "a1 = np.asarray(a)\n",
    "b1 = np.asarray(b)\n",
    "\n",
    "logit = sm.Logit(a1, b1)\n",
    "\n",
    "print logit.fit_regularized().pvalues"
   ]
  },
  {
   "cell_type": "code",
   "execution_count": 44,
   "metadata": {
    "collapsed": false
   },
   "outputs": [
    {
     "name": "stdout",
     "output_type": "stream",
     "text": [
      "[[194  31]\n",
      " [ 59 109]]\n",
      "             precision    recall  f1-score   support\n",
      "\n",
      "        0.0       0.77      0.86      0.81       225\n",
      "        1.0       0.78      0.65      0.71       168\n",
      "\n",
      "avg / total       0.77      0.77      0.77       393\n",
      "\n"
     ]
    }
   ],
   "source": [
    "# LR predicted confusion matrix\n",
    "\n",
    "# Predict class labels\n",
    "LRpredicted = LRmodel.predict(x_test)\n",
    "\n",
    "print metrics.confusion_matrix(y_test, LRpredicted)\n",
    "print metrics.classification_report(y_test, LRpredicted)"
   ]
  },
  {
   "cell_type": "code",
   "execution_count": 45,
   "metadata": {
    "collapsed": false
   },
   "outputs": [
    {
     "name": "stdout",
     "output_type": "stream",
     "text": [
      "[ 0.84946237  0.75268817  0.79347826  0.85869565  0.81318681  0.84615385\n",
      "  0.86813187  0.79120879  0.83516484  0.85714286]\n",
      "0.826531346167\n"
     ]
    }
   ],
   "source": [
    "# Evaluate the model using 10-fold cross-validation\n",
    "scores = cross_val_score(LogisticRegression(), x, y, scoring='accuracy', cv=10)\n",
    "print scores\n",
    "print scores.mean()"
   ]
  },
  {
   "cell_type": "code",
   "execution_count": 46,
   "metadata": {
    "collapsed": false
   },
   "outputs": [
    {
     "name": "stdout",
     "output_type": "stream",
     "text": [
      "0.770992366412\n",
      "0.828677248677\n"
     ]
    }
   ],
   "source": [
    "# Evaluation metrics\n",
    "print metrics.accuracy_score(y_test, LRpredicted)\n",
    "print metrics.roc_auc_score(y_test, LRprobs[:, 1])"
   ]
  },
  {
   "cell_type": "code",
   "execution_count": 47,
   "metadata": {
    "collapsed": false
   },
   "outputs": [
    {
     "name": "stdout",
     "output_type": "stream",
     "text": [
      "0.770992366412\n",
      "0.828677248677\n"
     ]
    }
   ],
   "source": [
    "# generate evaluation metrics\n",
    "print metrics.accuracy_score(y_test, LRpredicted)\n",
    "print metrics.roc_auc_score(y_test, LRprobs[:, 1])"
   ]
  },
  {
   "cell_type": "markdown",
   "metadata": {},
   "source": [
    "<u><h4 style=\"color:#6699FF\">Random Forests</h4></u>"
   ]
  },
  {
   "cell_type": "code",
   "execution_count": 48,
   "metadata": {
    "collapsed": false
   },
   "outputs": [
    {
     "data": {
      "image/png": "[encoded data removed]",
      "text/plain": [
       "<matplotlib.figure.Figure at 0x7f1adc37f3d0>"
      ]
     },
     "metadata": {},
     "output_type": "display_data"
    }
   ],
   "source": [
    "# selecting the best features in Random Forests\n",
    "\n",
    "import numpy as np\n",
    "from sklearn.feature_selection import SelectKBest, f_classif\n",
    "\n",
    "#implement title into this prediction!!\n",
    "predictors = [\"pclass\", \"sex\", \"age\", \"sibsp\", \"parch\", \"fare\"]\n",
    "\n",
    "# Perform feature selection\n",
    "selector = SelectKBest(f_classif, k=5)\n",
    "selector.fit(titanic_full_new[predictors], titanic_full_new[\"survived\"])\n",
    "\n",
    "# Get the raw p-values for each feature, and transform from p-values into scores\n",
    "scores = -np.log10(selector.pvalues_)\n",
    "\n",
    "# Plot the scores.  See how \"Pclass\", \"Sex\", \"Title\", and \"Fare\" are the best?\n",
    "plt.bar(range(len(predictors)), scores)\n",
    "plt.xticks(range(len(predictors)), predictors, rotation='vertical')\n",
    "plt.show()\n",
    "\n",
    "# Pick only the three best features.\n",
    "predictors = [\"pclass\", \"sex\", \"title\", \"fare\"]\n",
    "\n",
    "alg = RandomForestClassifier(random_state=1, n_estimators=150, min_samples_split=8, min_samples_leaf=4)"
   ]
  },
  {
   "cell_type": "code",
   "execution_count": 49,
   "metadata": {
    "collapsed": false
   },
   "outputs": [
    {
     "name": "stdout",
     "output_type": "stream",
     "text": [
      "0.541737902978\n"
     ]
    }
   ],
   "source": [
    "# Cross Validation Scores of Random Forests\n",
    "\n",
    "# basic random forests algorithim\n",
    "# source: https://www.dataquest.io/mission/75/improving-your-submission/\n",
    "\n",
    "from sklearn import cross_validation\n",
    "from sklearn.cross_validation import cross_val_score\n",
    "from sklearn.ensemble import RandomForestClassifier\n",
    "#put fare back in\n",
    "\n",
    "predictors = [\"pclass\", \"sex\", \"age\", \"sibsp\", \"parch\", \"fare\", \"C\", \"Q\", \"S\", \"Col\", \"Dr\", \"Master\", \"Miss\", \"Mr\", \"Mrs\", \"Rev\"]\n",
    "\n",
    "# n_estimators indicates 100 trees initially\n",
    "\n",
    "alg = RandomForestClassifier(random_state=1, n_estimators=100, min_samples_split=2, min_samples_leaf=1)\n",
    "\n",
    "scores = cross_validation.cross_val_score(alg, titanic_full_new[predictors], titanic_full_new[\"survived\"], cv=3)\n",
    "\n",
    "#nope below\n",
    "#scores2 = cross_validation.cross_val_score(alg, titanic_train, titanic_test, cv=3)\n",
    "\n",
    "print(scores.mean())"
   ]
  },
  {
   "cell_type": "code",
   "execution_count": 50,
   "metadata": {
    "collapsed": false
   },
   "outputs": [
    {
     "name": "stdout",
     "output_type": "stream",
     "text": [
      "0.556241177657\n"
     ]
    }
   ],
   "source": [
    "# RF cross validation score after initializing RF alg function to improve parameters\n",
    "alg = RandomForestClassifier(random_state=1, n_estimators=150, min_samples_split=4, min_samples_leaf=2)\n",
    "\n",
    "scores = cross_validation.cross_val_score(alg, titanic_full_new[predictors], titanic_full_new[\"survived\"], cv=3)\n",
    "\n",
    "print(scores.mean())"
   ]
  },
  {
   "cell_type": "code",
   "execution_count": 51,
   "metadata": {
    "collapsed": false
   },
   "outputs": [
    {
     "name": "stdout",
     "output_type": "stream",
     "text": [
      "[ 0.          0.10474312  0.20390373  0.03941212  0.03445897  0.11702299\n",
      "  0.21736255  0.0101086   0.00450523  0.00868925  0.0016732   0.00310691\n",
      "  0.0092697   0.05728941  0.11879811  0.06351     0.00614611]\n",
      "Index([u'Intercept', u'sex[T.1]', u'age', u'sibsp', u'parch', u'pclass',\n",
      "       u'fare', u'C', u'Q', u'S', u'Col', u'Dr', u'Master', u'Miss', u'Mr',\n",
      "       u'Mrs', u'Rev'],\n",
      "      dtype='object')\n"
     ]
    },
    {
     "data": {
      "text/plain": [
       "0.74300254452926207"
      ]
     },
     "execution_count": 51,
     "metadata": {},
     "output_type": "execute_result"
    }
   ],
   "source": [
    "# RF Feature Importance and Score\n",
    "from sklearn import datasets\n",
    "from sklearn import metrics\n",
    "from sklearn.ensemble import ExtraTreesClassifier\n",
    "\n",
    "from patsy import dmatrices\n",
    "import numpy as np\n",
    "\n",
    "y, x = dmatrices('survived ~ sex + age + sibsp + parch + pclass + fare + C + Q + S + Col + Dr + Master + Miss + Mr + Mrs + Rev',\n",
    "                 titanic_train, return_type=\"dataframe\")\n",
    "\n",
    "y_test, x_test = dmatrices('survived ~ sex + age + sibsp + parch + pclass + fare + + C + Q + S + Col + Dr + Master + Miss + Mr + Mrs + Rev',\n",
    "                           titanic_test, return_type=\"dataframe\")\n",
    "\n",
    "# Flatten y into a 1-D array\n",
    "y = np.ravel(y)\n",
    "\n",
    "# Fit an Extra Trees model to the data\n",
    "ETmodel = ExtraTreesClassifier()\n",
    "ETmodel = ETmodel.fit(x, y)\n",
    "print(ETmodel.feature_importances_)\n",
    "\n",
    "\n",
    "# Table displaying feature importance scores\n",
    "#print \"%s %d\" % (features[i], feature_importances_][i])\n",
    "#for loop to loop through length x.columns. print x[i] \n",
    "\n",
    "print x.columns\n",
    "\n",
    "ETmodel.score(x_test, y_test['survived'])"
   ]
  },
  {
   "cell_type": "markdown",
   "metadata": {},
   "source": [
    "<u><h4 style=\"color:#6699FF\">Support Vector Machines -- Accuracy Score</h4></u>"
   ]
  },
  {
   "cell_type": "code",
   "execution_count": 52,
   "metadata": {
    "collapsed": false
   },
   "outputs": [
    {
     "name": "stdout",
     "output_type": "stream",
     "text": [
      "0.704834605598\n",
      "SVM accuracy score is 0.704834605598\n"
     ]
    }
   ],
   "source": [
    "y, x = dmatrices('survived ~ sex + age + sibsp + parch + pclass + fare + C + Q + S + Col + Dr + Master + Miss + Mr + Mrs + Rev',\n",
    "                 titanic_train, return_type=\"dataframe\")\n",
    "\n",
    "y_test, x_test = dmatrices('survived ~ sex + age + sibsp + parch + pclass + fare + + C + Q + S + Col + Dr + Master + Miss + Mr + Mrs + Rev',\n",
    "                           titanic_test, return_type=\"dataframe\")\n",
    "\n",
    "y = np.ravel(y)\n",
    "\n",
    "from sklearn import svm\n",
    "clf = svm.LinearSVC()\n",
    "clf.fit(x,y)\n",
    "\n",
    "clf2 = svm.SVC()\n",
    "clf2.fit(x,y)\n",
    "\n",
    "pred = clf.predict(x_test)\n",
    "\n",
    "from sklearn.metrics import accuracy_score\n",
    "acc = accuracy_score(pred, y_test)\n",
    "print acc\n",
    "print \"SVM accuracy score is \" + str(acc)"
   ]
  },
  {
   "cell_type": "markdown",
   "metadata": {},
   "source": [
    "<u><h4 style=\"color:#6699FF\">Naive Bayes--Accuracy Score</h4></u>"
   ]
  },
  {
   "cell_type": "code",
   "execution_count": 53,
   "metadata": {
    "collapsed": false
   },
   "outputs": [
    {
     "name": "stdout",
     "output_type": "stream",
     "text": [
      "Naive Bayes accuracy score is 0.455470737913\n"
     ]
    }
   ],
   "source": [
    "y, x = dmatrices('survived ~ sex + age + sibsp + parch + pclass + fare + C + Q + S + Col + Dr + Master + Miss + Mr + Mrs + Rev',\n",
    "                 titanic_train, return_type=\"dataframe\")\n",
    "\n",
    "y_test, x_test = dmatrices('survived ~ sex + age + sibsp + parch + pclass + fare + + C + Q + S + Col + Dr + Master + Miss + Mr + Mrs + Rev',\n",
    "                           titanic_test, return_type=\"dataframe\")\n",
    "\n",
    "y = np.ravel(y)\n",
    "\n",
    "import numpy as np\n",
    "import pylab as pl\n",
    "\n",
    "from sklearn.naive_bayes import GaussianNB\n",
    "\n",
    "clf = GaussianNB()\n",
    "clf.fit(x, y)\n",
    "\n",
    "pred = clf.predict(x_test)\n",
    "\n",
    "from sklearn.metrics import accuracy_score\n",
    "nb_acc = accuracy_score(pred, y_test)\n",
    "print \"Naive Bayes accuracy score is \" + str(nb_acc)"
   ]
  },
  {
   "cell_type": "markdown",
   "metadata": {},
   "source": [
    "<font color=\"#6699FF\"> &clubs; &hearts; &diams; &spades; </font>\n"
   ]
  },
  {
   "cell_type": "markdown",
   "metadata": {
    "collapsed": true
   },
   "source": [
    "<h2 style=\"color:#6699FF\"> 7) Appendix</h2>\n",
    "\n",
    "Sources of code, knowlege, and inspiration:\n",
    "\n",
    "* Karen Xiao\n",
    "* Spencer Allee\n",
    "* Julian Modesto\n",
    "* Norah (Yuan) Shi\n",
    "* Nicholas Pascullo\n",
    "\n",
    "* https://www.udacity.com/course/intro-to-machine-learning--ud120\n",
    "* http://stanford.edu/~mwaskom/software/seaborn-dev/examples/factorplot_bars.html\n",
    "* https://www.dataquest.io/mission/74/getting-started-with-kaggle/\n",
    "* http://scikit-learn.org/stable/modules/generated/sklearn.linear_model.LinearRegression.html\n",
    "* https://www.dataquest.io/mission/75/improving-your-submission/\n",
    "* https://www.kaggle.com/hekkon/titanic/testing\n",
    "* https://www.kaggle.com/benhamner/titanic/python-seaborn-pairplot-example\n",
    "* http://www.myhtmltutorials.com/font.html\n",
    "* https://www.quora.com/Random-Forests/How-do-random-forests-work-in-laymans-terms\n",
    "* http://stackoverflow.com/questions/11587782/creating-dummy-variables-in-pandas-for-python\n",
    "* http://stackoverflow.com/questions/12207326/pandas-frequency-table-for-a-single-variable\n",
    "* http://stackoverflow.com/questions/11587782/creating-dummy-variables-in-pandas-for-python\n",
    "\n"
   ]
  },
  {
   "cell_type": "markdown",
   "metadata": {
    "collapsed": true
   },
   "source": [
    "<h2 style=\"color:#6699FF\"> 8) Appendix II</h2><br>\n",
    "Things I would like to implement in the future: <p>\n",
    "* **Further analysis of statistical significance of Logistic Regression model**\n",
    "    * Information on parameter size (Starter code availble in v. 2.5)\n",
    "    * Neatly displayed p-value table for comparison\n",
    "    * Factor performance visualization\n",
    "    * Confusion matrix gradient visualization (Starter code availble in v. 2.5)\n",
    "   <br>\n",
    "* **Further analysis and implementation of Random Forests**\n",
    "    * Experiment with AdaBoost\n",
    "    * Neatly display feature importance scores and include visualization of them\n",
    "   <br>\n",
    "* **Evaluate dummy variables more succinctly**\n",
    "    * Condense them into less columns\n",
    "   <br>\n",
    "* **Include interesting variables**\n",
    "    * Does cabin location distance from lifeboat have an effect?\n",
    "* **Comparison of Algorithms**\n",
    "    * Plot accuracy scores\n",
    "   </p>"
   ]
  }
 ],
 "metadata": {
  "kernelspec": {
   "display_name": "Python 2",
   "language": "python",
   "name": "python2"
  },
  "language_info": {
   "codemirror_mode": {
    "name": "ipython",
    "version": 2
   },
   "file_extension": ".py",
   "mimetype": "text/x-python",
   "name": "python",
   "nbconvert_exporter": "python",
   "pygments_lexer": "ipython2",
   "version": "2.7.10"
  }
 },
 "nbformat": 4,
 "nbformat_minor": 0
}
